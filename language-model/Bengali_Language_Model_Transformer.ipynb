{
 "cells": [
  {
   "cell_type": "code",
   "execution_count": 1,
   "metadata": {},
   "outputs": [],
   "source": [
    "%reload_ext autoreload\n",
    "%autoreload 2\n",
    "%matplotlib inline"
   ]
  },
  {
   "cell_type": "code",
   "execution_count": 2,
   "metadata": {},
   "outputs": [],
   "source": [
    "from fastai.text import *\n",
    "import numpy as np\n",
    "from sklearn.model_selection import train_test_split\n",
    "import pickle\n",
    "import sentencepiece as spm"
   ]
  },
  {
   "cell_type": "code",
   "execution_count": 3,
   "metadata": {},
   "outputs": [
    {
     "data": {
      "text/plain": [
       "('1.0.57', '1.1.0')"
      ]
     },
     "execution_count": 3,
     "metadata": {},
     "output_type": "execute_result"
    }
   ],
   "source": [
    "import fastai, torch\n",
    "fastai.__version__ , torch.__version__"
   ]
  },
  {
   "cell_type": "code",
   "execution_count": 4,
   "metadata": {},
   "outputs": [],
   "source": [
    "torch.cuda.set_device(0)"
   ]
  },
  {
   "cell_type": "code",
   "execution_count": 6,
   "metadata": {},
   "outputs": [
    {
     "name": "stdout",
     "output_type": "stream",
     "text": [
      "Sun Oct 20 20:52:02 2019       \r\n",
      "+-----------------------------------------------------------------------------+\r\n",
      "| NVIDIA-SMI 390.116                Driver Version: 390.116                   |\r\n",
      "|-------------------------------+----------------------+----------------------+\r\n",
      "| GPU  Name        Persistence-M| Bus-Id        Disp.A | Volatile Uncorr. ECC |\r\n",
      "| Fan  Temp  Perf  Pwr:Usage/Cap|         Memory-Usage | GPU-Util  Compute M. |\r\n",
      "|===============================+======================+======================|\r\n",
      "|   0  GeForce GTX 108...  Off  | 00000000:01:00.0  On |                  N/A |\r\n",
      "|  0%   51C    P0    65W / 250W |    370MiB / 11177MiB |      0%      Default |\r\n",
      "+-------------------------------+----------------------+----------------------+\r\n",
      "                                                                               \r\n",
      "+-----------------------------------------------------------------------------+\r\n",
      "| Processes:                                                       GPU Memory |\r\n",
      "|  GPU       PID   Type   Process name                             Usage      |\r\n",
      "|=============================================================================|\r\n",
      "|    0      1039      G   /usr/lib/xorg/Xorg                           139MiB |\r\n",
      "|    0      2165      G   compiz                                       138MiB |\r\n",
      "|    0     32623      G   /usr/lib/firefox/firefox                       2MiB |\r\n",
      "|    0     32637      G   /usr/lib/firefox/firefox                      77MiB |\r\n",
      "+-----------------------------------------------------------------------------+\r\n"
     ]
    }
   ],
   "source": [
    "!nvidia-smi"
   ]
  },
  {
   "cell_type": "code",
   "execution_count": 7,
   "metadata": {},
   "outputs": [],
   "source": [
    "path = Path('/home/gaurav/PycharmProjects/nlp-for-bengali/language-model')"
   ]
  },
  {
   "cell_type": "code",
   "execution_count": 8,
   "metadata": {},
   "outputs": [],
   "source": [
    "from inltk.tokenizer import BengaliTokenizer"
   ]
  },
  {
   "cell_type": "code",
   "execution_count": 9,
   "metadata": {},
   "outputs": [
    {
     "data": {
      "text/plain": [
       "inltk.tokenizer.BengaliTokenizer"
      ]
     },
     "execution_count": 9,
     "metadata": {},
     "output_type": "execute_result"
    }
   ],
   "source": [
    "BengaliTokenizer"
   ]
  },
  {
   "cell_type": "code",
   "execution_count": 8,
   "metadata": {},
   "outputs": [],
   "source": [
    "# class BengaliTokenizer(BaseTokenizer):\n",
    "#     def __init__(self, lang:str):\n",
    "#         self.lang = lang\n",
    "#         self.sp = spm.SentencePieceProcessor()\n",
    "#         self.sp.Load(str(path/\"../tokenizer/bengali_lm.model\"))\n",
    "        \n",
    "#     def tokenizer(self, t:str) -> List[str]:\n",
    "#         return self.sp.EncodeAsPieces(t)"
   ]
  },
  {
   "cell_type": "code",
   "execution_count": 10,
   "metadata": {},
   "outputs": [],
   "source": [
    "sp = spm.SentencePieceProcessor()\n",
    "sp.Load(str(path/\"../tokenizer/bengali_lm.model\"))\n",
    "itos = [sp.IdToPiece(int(i)) for i in range(30000)]"
   ]
  },
  {
   "cell_type": "code",
   "execution_count": 11,
   "metadata": {},
   "outputs": [],
   "source": [
    "# 30,000 is the vocab size that we chose in sentencepiece\n",
    "bengali_vocab = Vocab(itos)"
   ]
  },
  {
   "cell_type": "code",
   "execution_count": 12,
   "metadata": {},
   "outputs": [],
   "source": [
    "tokenizer = Tokenizer(tok_func=BengaliTokenizer, lang='bn')"
   ]
  },
  {
   "cell_type": "code",
   "execution_count": 13,
   "metadata": {},
   "outputs": [
    {
     "data": {
      "text/plain": [
       "['xxunk',\n",
       " 'xxpad',\n",
       " 'xxbos',\n",
       " 'xxeos',\n",
       " 'xxfld',\n",
       " 'xxmaj',\n",
       " 'xxup',\n",
       " 'xxrep',\n",
       " 'xxwrep']"
      ]
     },
     "execution_count": 13,
     "metadata": {},
     "output_type": "execute_result"
    }
   ],
   "source": [
    "tokenizer.special_cases"
   ]
  },
  {
   "cell_type": "code",
   "execution_count": 14,
   "metadata": {},
   "outputs": [],
   "source": [
    "data_lm = TextLMDataBunch.from_folder(path=path/'transformer', tokenizer=tokenizer, vocab=bengali_vocab)"
   ]
  },
  {
   "cell_type": "code",
   "execution_count": 15,
   "metadata": {},
   "outputs": [
    {
     "data": {
      "text/plain": [
       "64"
      ]
     },
     "execution_count": 15,
     "metadata": {},
     "output_type": "execute_result"
    }
   ],
   "source": [
    "data_lm.batch_size"
   ]
  },
  {
   "cell_type": "code",
   "execution_count": 16,
   "metadata": {},
   "outputs": [],
   "source": [
    "data_lm.save()"
   ]
  },
  {
   "cell_type": "code",
   "execution_count": 17,
   "metadata": {},
   "outputs": [
    {
     "data": {
      "text/html": [
       "<table border=\"1\" class=\"dataframe\">\n",
       "  <thead>\n",
       "    <tr style=\"text-align: right;\">\n",
       "      <th>idx</th>\n",
       "      <th>text</th>\n",
       "    </tr>\n",
       "  </thead>\n",
       "  <tbody>\n",
       "    <tr>\n",
       "      <td>0</td>\n",
       "      <td>▁নদ ▁ইত্যাদি ▁নামে ▁অভিহিত ▁করা ▁যায় । ▁আবার ▁ভৌগোলিক ▁অঞ্চলভেদে ▁ছোট ▁নদী কে ▁বিভিন্ন ▁নামে ▁ডাকা ▁হয় । &lt;unk&gt; ▁m . m ori s wa এর ▁মতে ▁নদী ▁হল ▁খাতের ▁মধ ▁্য ▁দিয়ে ▁প্রবাহিত ▁জলধারা । - r ive r ▁is ▁a ▁can al ▁ flow . ▁সাধারণত ▁উঁচু ▁ভূমি ▁বা ▁পাহাড় ▁গিরিখাত ▁থেকে ▁সৃষ্ট ▁ঝরণা ধারা , ▁বরফ গল িত ▁স্রোত ▁কিংবা ▁প্রাকৃতিক ▁পরিবর্তন ▁থেকে ▁নদীর ▁জন্ম । ▁হাজার</td>\n",
       "    </tr>\n",
       "    <tr>\n",
       "      <td>1</td>\n",
       "      <td>† p an the ra ▁z d ans ky i † ▁প্যান থে রা ▁গন টির ▁রয়েছে ▁নিম্নোক্ত ▁বাঘের ▁প্রজাতি ▁ও ▁উপপ্রজাতি গুলো । ▁প্যান থে রা ▁গন ে ▁রয়েছে ▁নিম্নোক্ত ▁সিংহের ▁প্রজাতি ▁ও ▁উপপ্রজাতি গুলো । ▁প্যান থে রা ▁গন ে ▁রয়েছে ▁নিম্নোক্ত ▁জাগ ুয়া র ের ▁প্রজাতি ▁ও ▁উপপ্রজাতি গুলো । ▁প্যান থে রা ▁গন ▁ টিতে ▁রয়েছে ▁নিম্নোক্ত ▁চিতাবাঘ ▁গুলোর ▁প্রজাতি ▁ও ▁উপপ্রজাতি গুলো । ▁বৈজ্ঞানিক ▁নাম</td>\n",
       "    </tr>\n",
       "    <tr>\n",
       "      <td>2</td>\n",
       "      <td>▁পরিবার ▁থেকে ▁মাংস , ▁সমৃদ্ধ ▁এবং ▁আরো ▁সম্ভ্রান্ত ▁পরিবার ▁এর ▁সাথে ▁সম্পর্কিত , ▁কুন ল ▁প্যা ট্রি সিও ▁তার ▁মা ▁ছিলেন ▁একজন ▁ধার্মিক ▁ক্যাথলিক ▁যিনি ▁তার ▁ছেলেকে ও ▁এক ▁হয়েছিলেন । ▁এছাড়াও ▁তিনি ▁গবেষণা ▁আইন ▁এ , ▁যেখানে ▁তিনি ▁তখন ▁একটি ▁অবৈধ ▁সংগঠন ▁সিএফ পি ▁যোগ ▁দেন ▁১৯৩১ ▁সালে ▁বিশ্ববিদ্যালয় ের &lt;unk&gt; ▁তার ▁ছোট ▁বোন ▁মেরি ▁মান ্যু টা ▁বার র ের ইন হাস ▁কুন হাল ▁এবং ▁তার ▁বড় ▁ভাই</td>\n",
       "    </tr>\n",
       "    <tr>\n",
       "      <td>3</td>\n",
       "      <td>▁দিকে , ▁আমি ▁নিশ্চিত ▁ছিলাম ▁আমি ▁রিয়াল ▁মাদ্রিদে ▁থাক ব ▁কিন্তু ▁আমি ▁দেখ লাম ▁যে ▁আমার ▁কোচ ▁ও ▁মালিকের ▁আমার ▁প্রতি ▁সেই ▁বিশ্বাস টি ▁নেই । ▁আমি ▁একজন ▁খেলোয়াড় ▁যার ▁জন্যে ▁ওই ▁বিশ্বাস টি ▁অত্যন্ত ▁গুরুত্বপূর্ণ ▁ছিল ▁যা ▁আমি ▁মনে ▁করেছি ▁আর্সেনাল ের ▁আমার ▁প্রতি ▁ছিল , ▁এটাই ▁ছিল ▁সেই ▁কারণ ▁যা ▁আমাকে ▁আর্সেনাল ে ▁আসতে ▁প্রভাবিত ▁করেছে ।\" ▁রিয়াল ▁মাদ্রিদ ের ▁অনেক ▁খেলোয়াড় ▁তার ▁এই ▁দল ▁থেকে ▁চলে ▁যাওয়ার</td>\n",
       "    </tr>\n",
       "    <tr>\n",
       "      <td>4</td>\n",
       "      <td>▁x ▁৪০০ ▁মিটার ▁রিলে ▁ইভেন্টে ▁স্বর্ণ ▁পদক ▁জিতেছেন । ▁২৯ ▁জুন ▁২০১১ , ▁রয়টার্স ▁রিপোর্ট ▁করেন ▁যে , ▁তিনি ▁এন াবলি ক ▁স্টেরয়েড ▁মে থান ডি য়েন অন ▁এর ▁জন্য ▁ইতিবাচক ▁পরীক্ষিত ▁হয়েছে ▁এবং ▁অফ ▁সিজন ▁টেষ্ট ▁এ ▁স্ট্যান জো লো ল । ▁একই ▁দিনে ▁ভারতীয় ▁এ্যা থ লেট িক ▁ফেড ার েশান ▁ও ▁একই ▁ঘোষনা ▁দেন । ▁তিনি ▁ফলাফল ▁এর ▁জন্য ▁দায়ী ▁করেন ▁দূষিত ▁খাবার ▁কে ▁এবং ▁এই ▁রিপোর্ট</td>\n",
       "    </tr>\n",
       "  </tbody>\n",
       "</table>"
      ],
      "text/plain": [
       "<IPython.core.display.HTML object>"
      ]
     },
     "metadata": {},
     "output_type": "display_data"
    }
   ],
   "source": [
    "data_lm.show_batch()"
   ]
  },
  {
   "cell_type": "code",
   "execution_count": 18,
   "metadata": {},
   "outputs": [
    {
     "data": {
      "text/plain": [
       "30000"
      ]
     },
     "execution_count": 18,
     "metadata": {},
     "output_type": "execute_result"
    }
   ],
   "source": [
    "len(data_lm.vocab.itos)"
   ]
  },
  {
   "cell_type": "code",
   "execution_count": 19,
   "metadata": {},
   "outputs": [],
   "source": [
    "learn = language_model_learner(data_lm, TransformerXL, pretrained=False)"
   ]
  },
  {
   "cell_type": "code",
   "execution_count": 20,
   "metadata": {},
   "outputs": [
    {
     "data": {
      "text/plain": [
       "20"
      ]
     },
     "execution_count": 20,
     "metadata": {},
     "output_type": "execute_result"
    }
   ],
   "source": [
    "gc.collect()"
   ]
  },
  {
   "cell_type": "code",
   "execution_count": 21,
   "metadata": {},
   "outputs": [
    {
     "data": {
      "text/html": [],
      "text/plain": [
       "<IPython.core.display.HTML object>"
      ]
     },
     "metadata": {},
     "output_type": "display_data"
    },
    {
     "name": "stdout",
     "output_type": "stream",
     "text": [
      "LR Finder is complete, type {learner_name}.recorder.plot() to see the graph.\n"
     ]
    }
   ],
   "source": [
    "learn.lr_find()"
   ]
  },
  {
   "cell_type": "code",
   "execution_count": 22,
   "metadata": {},
   "outputs": [
    {
     "data": {
      "image/png": "[encoded data removed]",
      "text/plain": [
       "<Figure size 432x288 with 1 Axes>"
      ]
     },
     "metadata": {
      "needs_background": "light"
     },
     "output_type": "display_data"
    }
   ],
   "source": [
    "learn.recorder.plot()"
   ]
  },
  {
   "cell_type": "code",
   "execution_count": 23,
   "metadata": {},
   "outputs": [
    {
     "data": {
      "text/plain": [
       "SequentialRNN(\n",
       "  (0): TransformerXL(\n",
       "    (encoder): Embedding(30000, 410)\n",
       "    (pos_enc): PositionalEncoding()\n",
       "    (drop_emb): Dropout(p=0.1)\n",
       "    (layers): ModuleList(\n",
       "      (0): DecoderLayer(\n",
       "        (mhra): MultiHeadRelativeAttention(\n",
       "          (attention): Linear(in_features=410, out_features=1230, bias=False)\n",
       "          (out): Linear(in_features=410, out_features=410, bias=False)\n",
       "          (drop_att): Dropout(p=0.1)\n",
       "          (drop_res): Dropout(p=0.1)\n",
       "          (ln): LayerNorm(torch.Size([410]), eps=1e-05, elementwise_affine=True)\n",
       "          (r_attn): Linear(in_features=410, out_features=410, bias=False)\n",
       "        )\n",
       "        (ff): SequentialEx(\n",
       "          (layers): ModuleList(\n",
       "            (0): Linear(in_features=410, out_features=2100, bias=True)\n",
       "            (1): ReLU(inplace)\n",
       "            (2): Dropout(p=0.1)\n",
       "            (3): Linear(in_features=2100, out_features=410, bias=True)\n",
       "            (4): Dropout(p=0.1)\n",
       "            (5): MergeLayer()\n",
       "            (6): LayerNorm(torch.Size([410]), eps=1e-05, elementwise_affine=True)\n",
       "          )\n",
       "        )\n",
       "      )\n",
       "      (1): DecoderLayer(\n",
       "        (mhra): MultiHeadRelativeAttention(\n",
       "          (attention): Linear(in_features=410, out_features=1230, bias=False)\n",
       "          (out): Linear(in_features=410, out_features=410, bias=False)\n",
       "          (drop_att): Dropout(p=0.1)\n",
       "          (drop_res): Dropout(p=0.1)\n",
       "          (ln): LayerNorm(torch.Size([410]), eps=1e-05, elementwise_affine=True)\n",
       "          (r_attn): Linear(in_features=410, out_features=410, bias=False)\n",
       "        )\n",
       "        (ff): SequentialEx(\n",
       "          (layers): ModuleList(\n",
       "            (0): Linear(in_features=410, out_features=2100, bias=True)\n",
       "            (1): ReLU(inplace)\n",
       "            (2): Dropout(p=0.1)\n",
       "            (3): Linear(in_features=2100, out_features=410, bias=True)\n",
       "            (4): Dropout(p=0.1)\n",
       "            (5): MergeLayer()\n",
       "            (6): LayerNorm(torch.Size([410]), eps=1e-05, elementwise_affine=True)\n",
       "          )\n",
       "        )\n",
       "      )\n",
       "      (2): DecoderLayer(\n",
       "        (mhra): MultiHeadRelativeAttention(\n",
       "          (attention): Linear(in_features=410, out_features=1230, bias=False)\n",
       "          (out): Linear(in_features=410, out_features=410, bias=False)\n",
       "          (drop_att): Dropout(p=0.1)\n",
       "          (drop_res): Dropout(p=0.1)\n",
       "          (ln): LayerNorm(torch.Size([410]), eps=1e-05, elementwise_affine=True)\n",
       "          (r_attn): Linear(in_features=410, out_features=410, bias=False)\n",
       "        )\n",
       "        (ff): SequentialEx(\n",
       "          (layers): ModuleList(\n",
       "            (0): Linear(in_features=410, out_features=2100, bias=True)\n",
       "            (1): ReLU(inplace)\n",
       "            (2): Dropout(p=0.1)\n",
       "            (3): Linear(in_features=2100, out_features=410, bias=True)\n",
       "            (4): Dropout(p=0.1)\n",
       "            (5): MergeLayer()\n",
       "            (6): LayerNorm(torch.Size([410]), eps=1e-05, elementwise_affine=True)\n",
       "          )\n",
       "        )\n",
       "      )\n",
       "      (3): DecoderLayer(\n",
       "        (mhra): MultiHeadRelativeAttention(\n",
       "          (attention): Linear(in_features=410, out_features=1230, bias=False)\n",
       "          (out): Linear(in_features=410, out_features=410, bias=False)\n",
       "          (drop_att): Dropout(p=0.1)\n",
       "          (drop_res): Dropout(p=0.1)\n",
       "          (ln): LayerNorm(torch.Size([410]), eps=1e-05, elementwise_affine=True)\n",
       "          (r_attn): Linear(in_features=410, out_features=410, bias=False)\n",
       "        )\n",
       "        (ff): SequentialEx(\n",
       "          (layers): ModuleList(\n",
       "            (0): Linear(in_features=410, out_features=2100, bias=True)\n",
       "            (1): ReLU(inplace)\n",
       "            (2): Dropout(p=0.1)\n",
       "            (3): Linear(in_features=2100, out_features=410, bias=True)\n",
       "            (4): Dropout(p=0.1)\n",
       "            (5): MergeLayer()\n",
       "            (6): LayerNorm(torch.Size([410]), eps=1e-05, elementwise_affine=True)\n",
       "          )\n",
       "        )\n",
       "      )\n",
       "      (4): DecoderLayer(\n",
       "        (mhra): MultiHeadRelativeAttention(\n",
       "          (attention): Linear(in_features=410, out_features=1230, bias=False)\n",
       "          (out): Linear(in_features=410, out_features=410, bias=False)\n",
       "          (drop_att): Dropout(p=0.1)\n",
       "          (drop_res): Dropout(p=0.1)\n",
       "          (ln): LayerNorm(torch.Size([410]), eps=1e-05, elementwise_affine=True)\n",
       "          (r_attn): Linear(in_features=410, out_features=410, bias=False)\n",
       "        )\n",
       "        (ff): SequentialEx(\n",
       "          (layers): ModuleList(\n",
       "            (0): Linear(in_features=410, out_features=2100, bias=True)\n",
       "            (1): ReLU(inplace)\n",
       "            (2): Dropout(p=0.1)\n",
       "            (3): Linear(in_features=2100, out_features=410, bias=True)\n",
       "            (4): Dropout(p=0.1)\n",
       "            (5): MergeLayer()\n",
       "            (6): LayerNorm(torch.Size([410]), eps=1e-05, elementwise_affine=True)\n",
       "          )\n",
       "        )\n",
       "      )\n",
       "      (5): DecoderLayer(\n",
       "        (mhra): MultiHeadRelativeAttention(\n",
       "          (attention): Linear(in_features=410, out_features=1230, bias=False)\n",
       "          (out): Linear(in_features=410, out_features=410, bias=False)\n",
       "          (drop_att): Dropout(p=0.1)\n",
       "          (drop_res): Dropout(p=0.1)\n",
       "          (ln): LayerNorm(torch.Size([410]), eps=1e-05, elementwise_affine=True)\n",
       "          (r_attn): Linear(in_features=410, out_features=410, bias=False)\n",
       "        )\n",
       "        (ff): SequentialEx(\n",
       "          (layers): ModuleList(\n",
       "            (0): Linear(in_features=410, out_features=2100, bias=True)\n",
       "            (1): ReLU(inplace)\n",
       "            (2): Dropout(p=0.1)\n",
       "            (3): Linear(in_features=2100, out_features=410, bias=True)\n",
       "            (4): Dropout(p=0.1)\n",
       "            (5): MergeLayer()\n",
       "            (6): LayerNorm(torch.Size([410]), eps=1e-05, elementwise_affine=True)\n",
       "          )\n",
       "        )\n",
       "      )\n",
       "      (6): DecoderLayer(\n",
       "        (mhra): MultiHeadRelativeAttention(\n",
       "          (attention): Linear(in_features=410, out_features=1230, bias=False)\n",
       "          (out): Linear(in_features=410, out_features=410, bias=False)\n",
       "          (drop_att): Dropout(p=0.1)\n",
       "          (drop_res): Dropout(p=0.1)\n",
       "          (ln): LayerNorm(torch.Size([410]), eps=1e-05, elementwise_affine=True)\n",
       "          (r_attn): Linear(in_features=410, out_features=410, bias=False)\n",
       "        )\n",
       "        (ff): SequentialEx(\n",
       "          (layers): ModuleList(\n",
       "            (0): Linear(in_features=410, out_features=2100, bias=True)\n",
       "            (1): ReLU(inplace)\n",
       "            (2): Dropout(p=0.1)\n",
       "            (3): Linear(in_features=2100, out_features=410, bias=True)\n",
       "            (4): Dropout(p=0.1)\n",
       "            (5): MergeLayer()\n",
       "            (6): LayerNorm(torch.Size([410]), eps=1e-05, elementwise_affine=True)\n",
       "          )\n",
       "        )\n",
       "      )\n",
       "      (7): DecoderLayer(\n",
       "        (mhra): MultiHeadRelativeAttention(\n",
       "          (attention): Linear(in_features=410, out_features=1230, bias=False)\n",
       "          (out): Linear(in_features=410, out_features=410, bias=False)\n",
       "          (drop_att): Dropout(p=0.1)\n",
       "          (drop_res): Dropout(p=0.1)\n",
       "          (ln): LayerNorm(torch.Size([410]), eps=1e-05, elementwise_affine=True)\n",
       "          (r_attn): Linear(in_features=410, out_features=410, bias=False)\n",
       "        )\n",
       "        (ff): SequentialEx(\n",
       "          (layers): ModuleList(\n",
       "            (0): Linear(in_features=410, out_features=2100, bias=True)\n",
       "            (1): ReLU(inplace)\n",
       "            (2): Dropout(p=0.1)\n",
       "            (3): Linear(in_features=2100, out_features=410, bias=True)\n",
       "            (4): Dropout(p=0.1)\n",
       "            (5): MergeLayer()\n",
       "            (6): LayerNorm(torch.Size([410]), eps=1e-05, elementwise_affine=True)\n",
       "          )\n",
       "        )\n",
       "      )\n",
       "      (8): DecoderLayer(\n",
       "        (mhra): MultiHeadRelativeAttention(\n",
       "          (attention): Linear(in_features=410, out_features=1230, bias=False)\n",
       "          (out): Linear(in_features=410, out_features=410, bias=False)\n",
       "          (drop_att): Dropout(p=0.1)\n",
       "          (drop_res): Dropout(p=0.1)\n",
       "          (ln): LayerNorm(torch.Size([410]), eps=1e-05, elementwise_affine=True)\n",
       "          (r_attn): Linear(in_features=410, out_features=410, bias=False)\n",
       "        )\n",
       "        (ff): SequentialEx(\n",
       "          (layers): ModuleList(\n",
       "            (0): Linear(in_features=410, out_features=2100, bias=True)\n",
       "            (1): ReLU(inplace)\n",
       "            (2): Dropout(p=0.1)\n",
       "            (3): Linear(in_features=2100, out_features=410, bias=True)\n",
       "            (4): Dropout(p=0.1)\n",
       "            (5): MergeLayer()\n",
       "            (6): LayerNorm(torch.Size([410]), eps=1e-05, elementwise_affine=True)\n",
       "          )\n",
       "        )\n",
       "      )\n",
       "      (9): DecoderLayer(\n",
       "        (mhra): MultiHeadRelativeAttention(\n",
       "          (attention): Linear(in_features=410, out_features=1230, bias=False)\n",
       "          (out): Linear(in_features=410, out_features=410, bias=False)\n",
       "          (drop_att): Dropout(p=0.1)\n",
       "          (drop_res): Dropout(p=0.1)\n",
       "          (ln): LayerNorm(torch.Size([410]), eps=1e-05, elementwise_affine=True)\n",
       "          (r_attn): Linear(in_features=410, out_features=410, bias=False)\n",
       "        )\n",
       "        (ff): SequentialEx(\n",
       "          (layers): ModuleList(\n",
       "            (0): Linear(in_features=410, out_features=2100, bias=True)\n",
       "            (1): ReLU(inplace)\n",
       "            (2): Dropout(p=0.1)\n",
       "            (3): Linear(in_features=2100, out_features=410, bias=True)\n",
       "            (4): Dropout(p=0.1)\n",
       "            (5): MergeLayer()\n",
       "            (6): LayerNorm(torch.Size([410]), eps=1e-05, elementwise_affine=True)\n",
       "          )\n",
       "        )\n",
       "      )\n",
       "      (10): DecoderLayer(\n",
       "        (mhra): MultiHeadRelativeAttention(\n",
       "          (attention): Linear(in_features=410, out_features=1230, bias=False)\n",
       "          (out): Linear(in_features=410, out_features=410, bias=False)\n",
       "          (drop_att): Dropout(p=0.1)\n",
       "          (drop_res): Dropout(p=0.1)\n",
       "          (ln): LayerNorm(torch.Size([410]), eps=1e-05, elementwise_affine=True)\n",
       "          (r_attn): Linear(in_features=410, out_features=410, bias=False)\n",
       "        )\n",
       "        (ff): SequentialEx(\n",
       "          (layers): ModuleList(\n",
       "            (0): Linear(in_features=410, out_features=2100, bias=True)\n",
       "            (1): ReLU(inplace)\n",
       "            (2): Dropout(p=0.1)\n",
       "            (3): Linear(in_features=2100, out_features=410, bias=True)\n",
       "            (4): Dropout(p=0.1)\n",
       "            (5): MergeLayer()\n",
       "            (6): LayerNorm(torch.Size([410]), eps=1e-05, elementwise_affine=True)\n",
       "          )\n",
       "        )\n",
       "      )\n",
       "      (11): DecoderLayer(\n",
       "        (mhra): MultiHeadRelativeAttention(\n",
       "          (attention): Linear(in_features=410, out_features=1230, bias=False)\n",
       "          (out): Linear(in_features=410, out_features=410, bias=False)\n",
       "          (drop_att): Dropout(p=0.1)\n",
       "          (drop_res): Dropout(p=0.1)\n",
       "          (ln): LayerNorm(torch.Size([410]), eps=1e-05, elementwise_affine=True)\n",
       "          (r_attn): Linear(in_features=410, out_features=410, bias=False)\n",
       "        )\n",
       "        (ff): SequentialEx(\n",
       "          (layers): ModuleList(\n",
       "            (0): Linear(in_features=410, out_features=2100, bias=True)\n",
       "            (1): ReLU(inplace)\n",
       "            (2): Dropout(p=0.1)\n",
       "            (3): Linear(in_features=2100, out_features=410, bias=True)\n",
       "            (4): Dropout(p=0.1)\n",
       "            (5): MergeLayer()\n",
       "            (6): LayerNorm(torch.Size([410]), eps=1e-05, elementwise_affine=True)\n",
       "          )\n",
       "        )\n",
       "      )\n",
       "    )\n",
       "  )\n",
       "  (1): LinearDecoder(\n",
       "    (decoder): Linear(in_features=410, out_features=30000, bias=True)\n",
       "    (output_dp): RNNDropout()\n",
       "  )\n",
       ")"
      ]
     },
     "execution_count": 23,
     "metadata": {},
     "output_type": "execute_result"
    }
   ],
   "source": [
    "learn.model"
   ]
  },
  {
   "cell_type": "code",
   "execution_count": 24,
   "metadata": {},
   "outputs": [
    {
     "data": {
      "text/html": [
       "<table border=\"1\" class=\"dataframe\">\n",
       "  <thead>\n",
       "    <tr style=\"text-align: left;\">\n",
       "      <th>epoch</th>\n",
       "      <th>train_loss</th>\n",
       "      <th>valid_loss</th>\n",
       "      <th>accuracy</th>\n",
       "      <th>time</th>\n",
       "    </tr>\n",
       "  </thead>\n",
       "  <tbody>\n",
       "    <tr>\n",
       "      <td>0</td>\n",
       "      <td>6.160033</td>\n",
       "      <td>6.114402</td>\n",
       "      <td>0.186740</td>\n",
       "      <td>35:35</td>\n",
       "    </tr>\n",
       "    <tr>\n",
       "      <td>1</td>\n",
       "      <td>5.363132</td>\n",
       "      <td>5.303140</td>\n",
       "      <td>0.232614</td>\n",
       "      <td>35:36</td>\n",
       "    </tr>\n",
       "    <tr>\n",
       "      <td>2</td>\n",
       "      <td>4.834630</td>\n",
       "      <td>4.814843</td>\n",
       "      <td>0.266739</td>\n",
       "      <td>35:35</td>\n",
       "    </tr>\n",
       "    <tr>\n",
       "      <td>3</td>\n",
       "      <td>4.670889</td>\n",
       "      <td>4.640143</td>\n",
       "      <td>0.276662</td>\n",
       "      <td>35:36</td>\n",
       "    </tr>\n",
       "    <tr>\n",
       "      <td>4</td>\n",
       "      <td>4.642864</td>\n",
       "      <td>4.578518</td>\n",
       "      <td>0.279461</td>\n",
       "      <td>35:33</td>\n",
       "    </tr>\n",
       "    <tr>\n",
       "      <td>5</td>\n",
       "      <td>4.518284</td>\n",
       "      <td>4.534373</td>\n",
       "      <td>0.279906</td>\n",
       "      <td>35:36</td>\n",
       "    </tr>\n",
       "    <tr>\n",
       "      <td>6</td>\n",
       "      <td>4.576394</td>\n",
       "      <td>4.445619</td>\n",
       "      <td>0.286890</td>\n",
       "      <td>35:30</td>\n",
       "    </tr>\n",
       "    <tr>\n",
       "      <td>7</td>\n",
       "      <td>4.437396</td>\n",
       "      <td>4.383281</td>\n",
       "      <td>0.291991</td>\n",
       "      <td>35:37</td>\n",
       "    </tr>\n",
       "    <tr>\n",
       "      <td>8</td>\n",
       "      <td>4.327770</td>\n",
       "      <td>4.280431</td>\n",
       "      <td>0.300357</td>\n",
       "      <td>35:39</td>\n",
       "    </tr>\n",
       "    <tr>\n",
       "      <td>9</td>\n",
       "      <td>4.343741</td>\n",
       "      <td>4.312667</td>\n",
       "      <td>0.297910</td>\n",
       "      <td>35:43</td>\n",
       "    </tr>\n",
       "    <tr>\n",
       "      <td>10</td>\n",
       "      <td>4.208006</td>\n",
       "      <td>4.151498</td>\n",
       "      <td>0.312441</td>\n",
       "      <td>35:44</td>\n",
       "    </tr>\n",
       "    <tr>\n",
       "      <td>11</td>\n",
       "      <td>4.065727</td>\n",
       "      <td>4.057003</td>\n",
       "      <td>0.323322</td>\n",
       "      <td>35:46</td>\n",
       "    </tr>\n",
       "    <tr>\n",
       "      <td>12</td>\n",
       "      <td>3.941578</td>\n",
       "      <td>3.969592</td>\n",
       "      <td>0.333966</td>\n",
       "      <td>35:48</td>\n",
       "    </tr>\n",
       "    <tr>\n",
       "      <td>13</td>\n",
       "      <td>3.823433</td>\n",
       "      <td>3.892510</td>\n",
       "      <td>0.342595</td>\n",
       "      <td>35:49</td>\n",
       "    </tr>\n",
       "    <tr>\n",
       "      <td>14</td>\n",
       "      <td>3.879285</td>\n",
       "      <td>3.820481</td>\n",
       "      <td>0.351674</td>\n",
       "      <td>35:48</td>\n",
       "    </tr>\n",
       "    <tr>\n",
       "      <td>15</td>\n",
       "      <td>3.740055</td>\n",
       "      <td>3.764005</td>\n",
       "      <td>0.359238</td>\n",
       "      <td>35:49</td>\n",
       "    </tr>\n",
       "    <tr>\n",
       "      <td>16</td>\n",
       "      <td>3.666404</td>\n",
       "      <td>3.720394</td>\n",
       "      <td>0.365659</td>\n",
       "      <td>35:49</td>\n",
       "    </tr>\n",
       "    <tr>\n",
       "      <td>17</td>\n",
       "      <td>3.520414</td>\n",
       "      <td>3.689401</td>\n",
       "      <td>0.369961</td>\n",
       "      <td>35:41</td>\n",
       "    </tr>\n",
       "    <tr>\n",
       "      <td>18</td>\n",
       "      <td>3.642337</td>\n",
       "      <td>3.676175</td>\n",
       "      <td>0.371686</td>\n",
       "      <td>35:37</td>\n",
       "    </tr>\n",
       "    <tr>\n",
       "      <td>19</td>\n",
       "      <td>3.592945</td>\n",
       "      <td>3.672997</td>\n",
       "      <td>0.372200</td>\n",
       "      <td>35:36</td>\n",
       "    </tr>\n",
       "  </tbody>\n",
       "</table>"
      ],
      "text/plain": [
       "<IPython.core.display.HTML object>"
      ]
     },
     "metadata": {},
     "output_type": "display_data"
    },
    {
     "name": "stdout",
     "output_type": "stream",
     "text": [
      "Better model found at epoch 0 with accuracy value: 0.18673951923847198.\n",
      "Better model found at epoch 1 with accuracy value: 0.23261427879333496.\n",
      "Better model found at epoch 2 with accuracy value: 0.2667387127876282.\n",
      "Better model found at epoch 3 with accuracy value: 0.27666205167770386.\n",
      "Better model found at epoch 4 with accuracy value: 0.2794608175754547.\n",
      "Better model found at epoch 5 with accuracy value: 0.27990642189979553.\n",
      "Better model found at epoch 6 with accuracy value: 0.2868899703025818.\n",
      "Better model found at epoch 7 with accuracy value: 0.29199138283729553.\n",
      "Better model found at epoch 8 with accuracy value: 0.30035650730133057.\n",
      "Better model found at epoch 10 with accuracy value: 0.3124406337738037.\n",
      "Better model found at epoch 11 with accuracy value: 0.3233223557472229.\n",
      "Better model found at epoch 12 with accuracy value: 0.3339662253856659.\n",
      "Better model found at epoch 13 with accuracy value: 0.34259486198425293.\n",
      "Better model found at epoch 14 with accuracy value: 0.35167354345321655.\n",
      "Better model found at epoch 15 with accuracy value: 0.3592382073402405.\n",
      "Better model found at epoch 16 with accuracy value: 0.3656591773033142.\n",
      "Better model found at epoch 17 with accuracy value: 0.36996063590049744.\n",
      "Better model found at epoch 18 with accuracy value: 0.37168627977371216.\n",
      "Better model found at epoch 19 with accuracy value: 0.37219980359077454.\n"
     ]
    }
   ],
   "source": [
    "learn.fit_one_cycle(20, 1e-3, moms=(0.8,0.7), callbacks=[callbacks.SaveModelCallback(learn, every='improvement', monitor='accuracy', name='model')])"
   ]
  },
  {
   "cell_type": "code",
   "execution_count": 25,
   "metadata": {},
   "outputs": [],
   "source": [
    "TEXT = \"ফিলো লাউ\"\n",
    "N_WORDS = 40\n",
    "N_SENTENCES = 2"
   ]
  },
  {
   "cell_type": "code",
   "execution_count": 26,
   "metadata": {},
   "outputs": [
    {
     "name": "stdout",
     "output_type": "stream",
     "text": [
      "ফিলো লাউ টাইম ▁ঢাকা তে ▁জন্ম ▁নেন । ▁তিনি ▁মূলত ▁পানি ▁ও ▁পানি ▁থেকে ▁পানি ▁উত্তোলন ▁করে ▁বিভিন্ন ▁দাতব্য ▁প্রতিষ্ঠানে ▁কৃতিত্বের ▁সাথে ▁কাজ ▁করেন । ▁তিনি ▁ব্যাপক ▁খ্যাতি ▁অর্জন ▁করেন ▁এবং ▁সেখানে ▁তিনি ▁একজন ▁ভুটান ি ▁মহিলার ▁সাথে ▁ভ্রমণ ▁করেন । ▁x\n",
      "ফিলো লাউ ▁পরিচালিত ▁একটি ▁ইসলামি ▁আরবি ▁ভাষার ▁প্রাচ্য ▁ভাষায় ▁রচিত ▁একটি ▁তুর্কি ▁তুর্কি ▁তুর্কি ▁ভাষার ▁ । ▁এটা ▁মূলত ▁একটি ▁তুর্কি ▁তুর্কি ▁ভাষা , ▁তবে ▁তা ▁ইংরেজি র ▁সাথে ▁সম্পর্কিত । ▁x x bo s ▁গৃহ ায়ন ▁বা ▁ঢ িল ে ঢ\n"
     ]
    }
   ],
   "source": [
    "print(\"\\n\".join(learn.predict(TEXT, N_WORDS, temperature=0.9) for _ in range(N_SENTENCES)))"
   ]
  },
  {
   "cell_type": "code",
   "execution_count": 27,
   "metadata": {},
   "outputs": [
    {
     "data": {
      "text/plain": [
       "39.369720278889915"
      ]
     },
     "execution_count": 27,
     "metadata": {},
     "output_type": "execute_result"
    }
   ],
   "source": [
    "np.exp(3.672997)"
   ]
  },
  {
   "cell_type": "code",
   "execution_count": 28,
   "metadata": {},
   "outputs": [],
   "source": [
    "defaults.device = torch.device('cpu')\n",
    "learn.model.eval()\n",
    "learn.export()"
   ]
  },
  {
   "cell_type": "code",
   "execution_count": 29,
   "metadata": {},
   "outputs": [],
   "source": [
    "# Generating embedding vectors for visualization"
   ]
  },
  {
   "cell_type": "code",
   "execution_count": 30,
   "metadata": {},
   "outputs": [
    {
     "data": {
      "text/plain": [
       "PosixPath('/home/gaurav/PycharmProjects/nlp-for-bengali/language-model')"
      ]
     },
     "execution_count": 30,
     "metadata": {},
     "output_type": "execute_result"
    }
   ],
   "source": [
    "path"
   ]
  },
  {
   "cell_type": "code",
   "execution_count": 31,
   "metadata": {},
   "outputs": [],
   "source": [
    "defaults.device = torch.device('cpu')"
   ]
  },
  {
   "cell_type": "code",
   "execution_count": 17,
   "metadata": {},
   "outputs": [],
   "source": [
    "# learn = load_learner(path / 'BengaliDataset/')"
   ]
  },
  {
   "cell_type": "code",
   "execution_count": 32,
   "metadata": {},
   "outputs": [],
   "source": [
    "encoder = get_model(learn.model)[0]"
   ]
  },
  {
   "cell_type": "code",
   "execution_count": 33,
   "metadata": {},
   "outputs": [
    {
     "data": {
      "text/plain": [
       "torch.Size([30000, 410])"
      ]
     },
     "execution_count": 33,
     "metadata": {},
     "output_type": "execute_result"
    }
   ],
   "source": [
    "encoder.state_dict()['encoder.weight'].shape"
   ]
  },
  {
   "cell_type": "code",
   "execution_count": 34,
   "metadata": {},
   "outputs": [],
   "source": [
    "embeddings = encoder.state_dict()['encoder.weight']"
   ]
  },
  {
   "cell_type": "code",
   "execution_count": 35,
   "metadata": {},
   "outputs": [],
   "source": [
    "embeddings = np.array(embeddings)"
   ]
  },
  {
   "cell_type": "code",
   "execution_count": 36,
   "metadata": {},
   "outputs": [
    {
     "data": {
      "text/plain": [
       "(410,)"
      ]
     },
     "execution_count": 36,
     "metadata": {},
     "output_type": "execute_result"
    }
   ],
   "source": [
    "embeddings[0].shape"
   ]
  },
  {
   "cell_type": "code",
   "execution_count": 37,
   "metadata": {},
   "outputs": [],
   "source": [
    "df = pd.DataFrame(embeddings)"
   ]
  },
  {
   "cell_type": "code",
   "execution_count": 38,
   "metadata": {},
   "outputs": [
    {
     "data": {
      "text/plain": [
       "(30000, 410)"
      ]
     },
     "execution_count": 38,
     "metadata": {},
     "output_type": "execute_result"
    }
   ],
   "source": [
    "df.shape"
   ]
  },
  {
   "cell_type": "code",
   "execution_count": 39,
   "metadata": {},
   "outputs": [],
   "source": [
    "df.to_csv('embeddings_transformer.tsv', sep='\\t', index=False, header=False)"
   ]
  },
  {
   "cell_type": "code",
   "execution_count": 40,
   "metadata": {},
   "outputs": [
    {
     "data": {
      "text/html": [
       "<div>\n",
       "<style scoped>\n",
       "    .dataframe tbody tr th:only-of-type {\n",
       "        vertical-align: middle;\n",
       "    }\n",
       "\n",
       "    .dataframe tbody tr th {\n",
       "        vertical-align: top;\n",
       "    }\n",
       "\n",
       "    .dataframe thead th {\n",
       "        text-align: right;\n",
       "    }\n",
       "</style>\n",
       "<table border=\"1\" class=\"dataframe\">\n",
       "  <thead>\n",
       "    <tr style=\"text-align: right;\">\n",
       "      <th></th>\n",
       "      <th>0</th>\n",
       "      <th>1</th>\n",
       "      <th>2</th>\n",
       "      <th>3</th>\n",
       "      <th>4</th>\n",
       "      <th>5</th>\n",
       "      <th>6</th>\n",
       "      <th>7</th>\n",
       "      <th>8</th>\n",
       "      <th>9</th>\n",
       "      <th>...</th>\n",
       "      <th>400</th>\n",
       "      <th>401</th>\n",
       "      <th>402</th>\n",
       "      <th>403</th>\n",
       "      <th>404</th>\n",
       "      <th>405</th>\n",
       "      <th>406</th>\n",
       "      <th>407</th>\n",
       "      <th>408</th>\n",
       "      <th>409</th>\n",
       "    </tr>\n",
       "  </thead>\n",
       "  <tbody>\n",
       "    <tr>\n",
       "      <td>0</td>\n",
       "      <td>-0.276658</td>\n",
       "      <td>-0.065557</td>\n",
       "      <td>0.176417</td>\n",
       "      <td>0.029637</td>\n",
       "      <td>0.107625</td>\n",
       "      <td>-0.535667</td>\n",
       "      <td>0.161978</td>\n",
       "      <td>-0.063032</td>\n",
       "      <td>-0.295912</td>\n",
       "      <td>0.087943</td>\n",
       "      <td>...</td>\n",
       "      <td>-0.268345</td>\n",
       "      <td>0.030240</td>\n",
       "      <td>-0.093095</td>\n",
       "      <td>0.129324</td>\n",
       "      <td>0.064888</td>\n",
       "      <td>-0.236765</td>\n",
       "      <td>-0.185207</td>\n",
       "      <td>0.107631</td>\n",
       "      <td>0.181413</td>\n",
       "      <td>0.246582</td>\n",
       "    </tr>\n",
       "    <tr>\n",
       "      <td>1</td>\n",
       "      <td>-0.109859</td>\n",
       "      <td>0.220141</td>\n",
       "      <td>-0.179959</td>\n",
       "      <td>0.023797</td>\n",
       "      <td>0.104593</td>\n",
       "      <td>-0.087504</td>\n",
       "      <td>0.097410</td>\n",
       "      <td>-0.074559</td>\n",
       "      <td>0.135344</td>\n",
       "      <td>0.139367</td>\n",
       "      <td>...</td>\n",
       "      <td>-0.102015</td>\n",
       "      <td>0.149898</td>\n",
       "      <td>0.317941</td>\n",
       "      <td>-0.005063</td>\n",
       "      <td>0.031456</td>\n",
       "      <td>-0.120756</td>\n",
       "      <td>0.033822</td>\n",
       "      <td>-0.112746</td>\n",
       "      <td>0.053219</td>\n",
       "      <td>0.049918</td>\n",
       "    </tr>\n",
       "    <tr>\n",
       "      <td>2</td>\n",
       "      <td>-0.110855</td>\n",
       "      <td>0.218759</td>\n",
       "      <td>-0.178260</td>\n",
       "      <td>0.022029</td>\n",
       "      <td>0.105960</td>\n",
       "      <td>-0.083316</td>\n",
       "      <td>0.095522</td>\n",
       "      <td>-0.073796</td>\n",
       "      <td>0.137707</td>\n",
       "      <td>0.147353</td>\n",
       "      <td>...</td>\n",
       "      <td>-0.102184</td>\n",
       "      <td>0.151642</td>\n",
       "      <td>0.311132</td>\n",
       "      <td>-0.010139</td>\n",
       "      <td>0.028558</td>\n",
       "      <td>-0.112971</td>\n",
       "      <td>0.038648</td>\n",
       "      <td>-0.116988</td>\n",
       "      <td>0.055375</td>\n",
       "      <td>0.051869</td>\n",
       "    </tr>\n",
       "    <tr>\n",
       "      <td>3</td>\n",
       "      <td>-0.029481</td>\n",
       "      <td>0.672732</td>\n",
       "      <td>-0.087990</td>\n",
       "      <td>-0.175457</td>\n",
       "      <td>-0.022388</td>\n",
       "      <td>0.421996</td>\n",
       "      <td>0.166604</td>\n",
       "      <td>-0.267720</td>\n",
       "      <td>-0.419014</td>\n",
       "      <td>-0.338803</td>\n",
       "      <td>...</td>\n",
       "      <td>0.026312</td>\n",
       "      <td>-0.358276</td>\n",
       "      <td>-0.396847</td>\n",
       "      <td>-0.134900</td>\n",
       "      <td>-0.174931</td>\n",
       "      <td>-0.392736</td>\n",
       "      <td>-0.230541</td>\n",
       "      <td>-0.195794</td>\n",
       "      <td>0.098930</td>\n",
       "      <td>-0.121982</td>\n",
       "    </tr>\n",
       "    <tr>\n",
       "      <td>4</td>\n",
       "      <td>-0.186124</td>\n",
       "      <td>-0.297254</td>\n",
       "      <td>0.006646</td>\n",
       "      <td>0.160423</td>\n",
       "      <td>-0.060533</td>\n",
       "      <td>0.297327</td>\n",
       "      <td>0.115462</td>\n",
       "      <td>-0.102906</td>\n",
       "      <td>-0.290596</td>\n",
       "      <td>-0.176600</td>\n",
       "      <td>...</td>\n",
       "      <td>0.152284</td>\n",
       "      <td>-0.301877</td>\n",
       "      <td>0.416140</td>\n",
       "      <td>-0.137230</td>\n",
       "      <td>-0.070624</td>\n",
       "      <td>-0.008602</td>\n",
       "      <td>-0.242522</td>\n",
       "      <td>-0.103611</td>\n",
       "      <td>-0.137982</td>\n",
       "      <td>0.165700</td>\n",
       "    </tr>\n",
       "  </tbody>\n",
       "</table>\n",
       "<p>5 rows × 410 columns</p>\n",
       "</div>"
      ],
      "text/plain": [
       "        0         1         2         3         4         5         6    \\\n",
       "0 -0.276658 -0.065557  0.176417  0.029637  0.107625 -0.535667  0.161978   \n",
       "1 -0.109859  0.220141 -0.179959  0.023797  0.104593 -0.087504  0.097410   \n",
       "2 -0.110855  0.218759 -0.178260  0.022029  0.105960 -0.083316  0.095522   \n",
       "3 -0.029481  0.672732 -0.087990 -0.175457 -0.022388  0.421996  0.166604   \n",
       "4 -0.186124 -0.297254  0.006646  0.160423 -0.060533  0.297327  0.115462   \n",
       "\n",
       "        7         8         9    ...       400       401       402       403  \\\n",
       "0 -0.063032 -0.295912  0.087943  ... -0.268345  0.030240 -0.093095  0.129324   \n",
       "1 -0.074559  0.135344  0.139367  ... -0.102015  0.149898  0.317941 -0.005063   \n",
       "2 -0.073796  0.137707  0.147353  ... -0.102184  0.151642  0.311132 -0.010139   \n",
       "3 -0.267720 -0.419014 -0.338803  ...  0.026312 -0.358276 -0.396847 -0.134900   \n",
       "4 -0.102906 -0.290596 -0.176600  ...  0.152284 -0.301877  0.416140 -0.137230   \n",
       "\n",
       "        404       405       406       407       408       409  \n",
       "0  0.064888 -0.236765 -0.185207  0.107631  0.181413  0.246582  \n",
       "1  0.031456 -0.120756  0.033822 -0.112746  0.053219  0.049918  \n",
       "2  0.028558 -0.112971  0.038648 -0.116988  0.055375  0.051869  \n",
       "3 -0.174931 -0.392736 -0.230541 -0.195794  0.098930 -0.121982  \n",
       "4 -0.070624 -0.008602 -0.242522 -0.103611 -0.137982  0.165700  \n",
       "\n",
       "[5 rows x 410 columns]"
      ]
     },
     "execution_count": 40,
     "metadata": {},
     "output_type": "execute_result"
    }
   ],
   "source": [
    "df.head()"
   ]
  },
  {
   "cell_type": "code",
   "execution_count": 41,
   "metadata": {},
   "outputs": [],
   "source": [
    "df2 = pd.DataFrame(itos)"
   ]
  },
  {
   "cell_type": "code",
   "execution_count": 42,
   "metadata": {},
   "outputs": [
    {
     "data": {
      "text/html": [
       "<div>\n",
       "<style scoped>\n",
       "    .dataframe tbody tr th:only-of-type {\n",
       "        vertical-align: middle;\n",
       "    }\n",
       "\n",
       "    .dataframe tbody tr th {\n",
       "        vertical-align: top;\n",
       "    }\n",
       "\n",
       "    .dataframe thead th {\n",
       "        text-align: right;\n",
       "    }\n",
       "</style>\n",
       "<table border=\"1\" class=\"dataframe\">\n",
       "  <thead>\n",
       "    <tr style=\"text-align: right;\">\n",
       "      <th></th>\n",
       "      <th>0</th>\n",
       "    </tr>\n",
       "  </thead>\n",
       "  <tbody>\n",
       "    <tr>\n",
       "      <td>0</td>\n",
       "      <td>&lt;unk&gt;</td>\n",
       "    </tr>\n",
       "    <tr>\n",
       "      <td>1</td>\n",
       "      <td>&lt;s&gt;</td>\n",
       "    </tr>\n",
       "    <tr>\n",
       "      <td>2</td>\n",
       "      <td>&lt;/s&gt;</td>\n",
       "    </tr>\n",
       "    <tr>\n",
       "      <td>3</td>\n",
       "      <td>।</td>\n",
       "    </tr>\n",
       "    <tr>\n",
       "      <td>4</td>\n",
       "      <td>,</td>\n",
       "    </tr>\n",
       "  </tbody>\n",
       "</table>\n",
       "</div>"
      ],
      "text/plain": [
       "       0\n",
       "0  <unk>\n",
       "1    <s>\n",
       "2   </s>\n",
       "3      ।\n",
       "4      ,"
      ]
     },
     "execution_count": 42,
     "metadata": {},
     "output_type": "execute_result"
    }
   ],
   "source": [
    "df2.head()"
   ]
  },
  {
   "cell_type": "code",
   "execution_count": 43,
   "metadata": {},
   "outputs": [
    {
     "data": {
      "text/plain": [
       "(30000, 1)"
      ]
     },
     "execution_count": 43,
     "metadata": {},
     "output_type": "execute_result"
    }
   ],
   "source": [
    "df2.shape"
   ]
  },
  {
   "cell_type": "code",
   "execution_count": 44,
   "metadata": {},
   "outputs": [],
   "source": [
    "df2.to_csv('embeddings_transformer_metadata.tsv', sep='\\t', index=False, header=False)"
   ]
  },
  {
   "cell_type": "code",
   "execution_count": 45,
   "metadata": {
    "scrolled": true
   },
   "outputs": [
    {
     "data": {
      "text/plain": [
       "tensor([-1.0986e-01,  2.2014e-01, -1.7996e-01,  2.3797e-02,  1.0459e-01,\n",
       "        -8.7504e-02,  9.7410e-02, -7.4559e-02,  1.3534e-01,  1.3937e-01,\n",
       "        -2.1156e-04, -1.5727e-02, -2.1426e-01,  7.8057e-02,  2.7946e-02,\n",
       "        -2.3095e-01,  3.6513e-02,  1.0708e-01,  2.3014e-02,  7.2919e-02,\n",
       "        -1.0231e-01, -1.4727e-01, -3.8871e-02,  6.4326e-02, -5.8928e-02,\n",
       "        -1.5694e-01,  1.3051e-01, -1.3630e-01,  2.4261e-01, -2.0171e-03,\n",
       "         1.0705e-01, -8.7649e-02,  2.8304e-02, -4.4801e-01,  4.8569e-01,\n",
       "         8.2242e-02,  1.8289e-01,  1.1505e-01,  6.2897e-02,  1.4264e-02,\n",
       "        -4.3788e-02,  1.0339e-01,  7.2059e-02, -3.6789e-01,  1.1064e-01,\n",
       "        -4.7133e-03, -5.6261e-02, -3.5772e-02, -3.0486e-02,  4.9066e-02,\n",
       "        -1.2123e-01, -1.3859e-02, -2.9171e-01,  8.1506e-02,  2.5879e-01,\n",
       "         8.2652e-02, -1.5609e-01,  1.3121e-01,  1.1510e-01, -1.0480e-01,\n",
       "         6.4789e-01, -9.3769e-03, -1.0541e-01,  3.0571e-01, -6.9436e-02,\n",
       "        -1.7932e-01,  2.7449e-01,  3.8619e-01, -6.1625e-02,  9.7588e-02,\n",
       "        -8.4680e-02, -1.6244e-02, -2.6945e-01,  1.8582e-01, -4.8548e-02,\n",
       "         1.4486e-01, -5.1661e-02, -7.9664e-02, -1.7311e-01, -2.5315e-01,\n",
       "        -1.7479e-01, -8.9550e-02,  4.0736e-02, -2.7520e-01,  7.5698e-02,\n",
       "         1.0197e-02,  2.3640e-02,  1.8552e-02, -1.0045e-01,  2.7892e-02,\n",
       "        -2.5407e-01, -3.4747e-02,  6.0780e-03, -1.0954e-01, -1.4153e-01,\n",
       "         1.9881e-01, -8.0909e-02, -7.9927e-02,  3.2161e-02,  3.0895e-01,\n",
       "         1.1603e-01, -1.6063e-01, -6.0762e-02, -2.4309e-01, -6.6291e-02,\n",
       "         4.5914e-02, -1.4549e-02, -6.6852e-02, -5.5633e-02, -6.6671e-02,\n",
       "         1.4130e-01, -1.8530e-01,  1.2695e-01, -3.0846e-01,  2.6818e-01,\n",
       "        -1.2802e-01, -2.1717e-01,  2.0695e-01,  8.1652e-02, -2.3346e-01,\n",
       "         7.9804e-04, -1.6172e-01,  1.2007e-01, -1.7355e-01, -7.0580e-02,\n",
       "        -3.2556e-01,  1.3252e-01, -1.8949e-02, -1.5231e-01,  6.5419e-02,\n",
       "        -9.9907e-02, -1.0652e-01, -3.1476e-02,  3.4976e-01,  2.2927e-01,\n",
       "        -1.9757e-01,  1.1462e-01,  6.5840e-04,  3.6769e-02, -1.5453e-01,\n",
       "         1.7524e-01, -3.1112e-01, -4.9814e-02,  2.6577e-02, -1.2977e-01,\n",
       "        -3.7613e-01,  4.4271e-02, -7.8530e-02,  4.8883e-02, -9.0956e-02,\n",
       "         4.5797e-02, -1.2969e-01, -1.6405e-01,  7.5359e-02, -1.3288e-01,\n",
       "         2.4702e-01, -2.0006e-01,  5.4215e-02,  1.5615e-01, -1.1394e-01,\n",
       "         1.3383e-01,  2.3493e-01, -2.1877e-01,  3.3018e-01, -1.3090e-01,\n",
       "        -2.7238e-01,  5.9307e-01,  7.6530e-02, -2.0556e-02, -2.4737e-02,\n",
       "        -1.8510e-02,  2.9387e-01,  1.1218e-01,  4.1511e-02, -2.7056e-02,\n",
       "        -1.0255e-01,  2.3430e-01,  3.5550e-01,  8.4670e-02, -4.2774e-01,\n",
       "         1.5644e-01, -7.2553e-02, -1.5909e-01, -4.6082e-02, -1.3618e-01,\n",
       "        -3.0730e-01, -1.6846e-01,  1.8125e-01, -9.3721e-02,  1.6610e-02,\n",
       "         8.4168e-02, -2.0613e-01,  9.8283e-02, -1.4572e-01,  4.9797e-02,\n",
       "        -2.0396e-01,  8.2787e-02,  7.4191e-02,  8.3142e-02,  1.8669e-01,\n",
       "         6.8671e-02,  4.4840e-02,  2.3891e-01,  1.2810e-01, -1.1214e-01,\n",
       "         1.4009e-01, -4.7293e-02,  2.8497e-01, -1.3317e-01, -7.8947e-02,\n",
       "        -2.3778e-01,  1.0338e-01, -9.6381e-03,  1.8028e-01,  2.3767e-01,\n",
       "         1.0339e-01, -9.6029e-02,  1.1342e-01,  7.7145e-02, -1.6318e-01,\n",
       "         1.9394e-01,  8.5783e-02, -1.9841e-01,  4.5227e-02,  4.7401e-02,\n",
       "         6.5933e-02, -7.5364e-02, -5.9838e-02, -6.6547e-03, -1.7479e-01,\n",
       "        -3.2227e-01, -8.5876e-02, -5.7650e-02,  1.4822e-01, -1.4234e-01,\n",
       "        -2.5441e-02,  1.6206e-01, -9.4439e-02,  1.6396e-02, -4.4965e-02,\n",
       "         1.6598e-03,  1.5964e-01, -6.9660e-03, -1.4899e-01, -1.7559e-01,\n",
       "         3.0208e-02, -4.4459e-02,  5.1675e-02, -2.0120e-01, -1.9024e-02,\n",
       "        -1.2609e-01,  1.1652e-01, -4.8546e-01, -3.4227e-02,  1.7982e-01,\n",
       "        -8.1425e-02, -1.0880e-01, -2.3879e-02,  4.1724e-02,  4.4347e-02,\n",
       "         1.2761e-01, -2.7805e-02, -6.8929e-03, -1.4018e-01, -7.9537e-03,\n",
       "        -2.0388e-01,  1.3957e-01, -1.2435e-01, -2.8438e-01, -5.8022e-02,\n",
       "         1.5197e-01,  2.0312e-01,  2.8014e-01,  2.6258e-01, -1.0447e-01,\n",
       "        -8.5523e-02,  1.2670e-01,  8.5653e-02, -3.2514e-02,  1.6728e-01,\n",
       "        -1.6768e-02,  1.6131e-01, -5.8083e-02,  1.9950e-01, -1.4648e-01,\n",
       "        -2.5857e-01, -1.3748e-01, -1.0971e-03, -1.2187e-01, -1.8718e-01,\n",
       "        -1.0528e-01,  1.8067e-01,  6.9962e-03,  1.7346e-01, -1.0897e-01,\n",
       "        -3.0472e-01, -4.0518e-02, -2.6695e-02, -1.3845e-01, -1.6303e-01,\n",
       "         1.6760e-02,  8.6504e-02, -9.5589e-03,  1.7171e-01,  9.5096e-02,\n",
       "         1.8064e-01,  7.4632e-03,  1.4889e-01,  8.8239e-02,  2.2238e-02,\n",
       "         1.0089e-01,  1.6654e-01,  9.2832e-03, -1.3916e-01, -1.2935e-01,\n",
       "         2.2703e-01, -1.5473e-01, -1.6062e-01,  1.0879e-01, -9.2821e-02,\n",
       "        -3.9001e-01, -3.4834e-02,  2.4738e-01, -1.4485e-01, -3.2782e-01,\n",
       "         2.5925e-01, -7.8489e-02,  2.7817e-01, -3.0157e-01,  2.5001e-01,\n",
       "         1.4124e-01, -3.9543e-01,  2.0044e-01,  8.7062e-02, -1.2000e-01,\n",
       "         3.1713e-02, -1.9228e-01, -6.7875e-02, -7.9935e-02, -1.7945e-01,\n",
       "         2.9099e-02, -1.0058e-01,  1.0676e-01,  3.7164e-02, -2.0746e-02,\n",
       "        -3.6423e-02, -4.0745e-02,  1.0210e-01, -1.9355e-01, -1.6262e-01,\n",
       "        -2.8673e-02, -1.6806e-02,  1.6335e-01,  1.6308e-01, -3.1000e-02,\n",
       "        -2.9430e-01, -1.5342e-01, -3.7275e-02,  1.5337e-02, -1.9729e-01,\n",
       "        -1.3388e-01,  3.0661e-01, -1.2899e-01,  1.5274e-01, -2.5929e-01,\n",
       "        -1.4755e-01,  5.9885e-02,  3.8639e-02,  1.7190e-01, -1.6529e-01,\n",
       "        -1.2154e-01, -9.3503e-02, -1.2534e-01, -3.0212e-01,  9.0137e-02,\n",
       "        -5.3237e-02,  2.0633e-02,  3.4118e-02, -1.5398e-01, -5.7820e-02,\n",
       "         9.6202e-02,  1.8969e-01,  5.1964e-02,  2.6785e-01,  1.4130e-01,\n",
       "         9.1499e-02,  2.0858e-01, -3.1634e-01, -1.7746e-01, -1.9400e-01,\n",
       "         9.4550e-03, -3.3413e-02, -6.4221e-02, -1.2843e-01,  4.1054e-02,\n",
       "        -5.3954e-02,  1.8128e-02, -7.8318e-02,  1.4820e-01, -1.0211e-01,\n",
       "        -1.0202e-01,  1.4990e-01,  3.1794e-01, -5.0633e-03,  3.1456e-02,\n",
       "        -1.2076e-01,  3.3822e-02, -1.1275e-01,  5.3219e-02,  4.9918e-02],\n",
       "       device='cuda:0')"
      ]
     },
     "execution_count": 45,
     "metadata": {},
     "output_type": "execute_result"
    }
   ],
   "source": [
    "encoder.state_dict()['encoder.weight'][1]"
   ]
  },
  {
   "cell_type": "code",
   "execution_count": null,
   "metadata": {},
   "outputs": [],
   "source": []
  }
 ],
 "metadata": {
  "kernelspec": {
   "display_name": "Python 3",
   "language": "python",
   "name": "python3"
  },
  "language_info": {
   "codemirror_mode": {
    "name": "ipython",
    "version": 3
   },
   "file_extension": ".py",
   "mimetype": "text/x-python",
   "name": "python",
   "nbconvert_exporter": "python",
   "pygments_lexer": "ipython3",
   "version": "3.7.4"
  }
 },
 "nbformat": 4,
 "nbformat_minor": 2
}
