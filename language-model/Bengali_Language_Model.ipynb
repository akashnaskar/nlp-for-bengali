{
 "cells": [
  {
   "cell_type": "code",
   "execution_count": 7,
   "metadata": {},
   "outputs": [],
   "source": [
    "%reload_ext autoreload\n",
    "%autoreload 2\n",
    "%matplotlib inline"
   ]
  },
  {
   "cell_type": "code",
   "execution_count": 8,
   "metadata": {},
   "outputs": [],
   "source": [
    "from fastai.text import *\n",
    "import numpy as np\n",
    "from sklearn.model_selection import train_test_split\n",
    "import pickle\n",
    "import sentencepiece as spm"
   ]
  },
  {
   "cell_type": "code",
   "execution_count": 9,
   "metadata": {},
   "outputs": [
    {
     "data": {
      "text/plain": [
       "('1.0.40', '1.0.0')"
      ]
     },
     "execution_count": 9,
     "metadata": {},
     "output_type": "execute_result"
    }
   ],
   "source": [
    "import fastai, torch\n",
    "fastai.__version__ , torch.__version__"
   ]
  },
  {
   "cell_type": "code",
   "execution_count": 10,
   "metadata": {},
   "outputs": [],
   "source": [
    "torch.cuda.set_device(0)"
   ]
  },
  {
   "cell_type": "code",
   "execution_count": 11,
   "metadata": {},
   "outputs": [],
   "source": [
    "path = Path('/home/gaurav/PycharmProjects/nlp-for-bengali/language-model')"
   ]
  },
  {
   "cell_type": "code",
   "execution_count": 12,
   "metadata": {},
   "outputs": [],
   "source": [
    "p = path.glob('BengaliWikipediaArticles/*')\n",
    "files = [x for x in p if x.is_file()]"
   ]
  },
  {
   "cell_type": "code",
   "execution_count": 13,
   "metadata": {},
   "outputs": [
    {
     "data": {
      "text/plain": [
       "72374"
      ]
     },
     "execution_count": 13,
     "metadata": {},
     "output_type": "execute_result"
    }
   ],
   "source": [
    "len(files)"
   ]
  },
  {
   "cell_type": "code",
   "execution_count": 14,
   "metadata": {},
   "outputs": [],
   "source": [
    "train_files, test_files = train_test_split(files, test_size=0.3)"
   ]
  },
  {
   "cell_type": "code",
   "execution_count": 15,
   "metadata": {},
   "outputs": [
    {
     "data": {
      "text/plain": [
       "(50661, 21713)"
      ]
     },
     "execution_count": 15,
     "metadata": {},
     "output_type": "execute_result"
    }
   ],
   "source": [
    "len(train_files), len(test_files)"
   ]
  },
  {
   "cell_type": "code",
   "execution_count": 16,
   "metadata": {},
   "outputs": [
    {
     "data": {
      "text/plain": [
       "PosixPath('/home/gaurav/PycharmProjects/nlp-for-bengali/language-model/BengaliWikipediaArticles/30720.pkl')"
      ]
     },
     "execution_count": 16,
     "metadata": {},
     "output_type": "execute_result"
    }
   ],
   "source": [
    "train_files[0]"
   ]
  },
  {
   "cell_type": "code",
   "execution_count": 17,
   "metadata": {},
   "outputs": [
    {
     "data": {
      "text/plain": [
       "'30720'"
      ]
     },
     "execution_count": 17,
     "metadata": {},
     "output_type": "execute_result"
    }
   ],
   "source": [
    "str(train_files[0]).split('/')[-1][:-4]"
   ]
  },
  {
   "cell_type": "code",
   "execution_count": 18,
   "metadata": {},
   "outputs": [],
   "source": [
    "# Preparing dataset for fastai\n",
    "for file in train_files:\n",
    "    with open(file, 'rb') as f:\n",
    "        text = pickle.load(f)\n",
    "    with open(path/'BengaliDataset'/'train'/(str(file).split('/')[-1][:-4]+'.txt'), \"w\") as text_file:\n",
    "        text_file.write(text)"
   ]
  },
  {
   "cell_type": "code",
   "execution_count": 19,
   "metadata": {},
   "outputs": [],
   "source": [
    "for file in test_files:\n",
    "    with open(file, 'rb') as f:\n",
    "        text = pickle.load(f)\n",
    "    with open(path/'BengaliDataset'/'valid'/(str(file).split('/')[-1][:-4]+'.txt'), \"w\") as text_file:\n",
    "        text_file.write(text)"
   ]
  },
  {
   "cell_type": "code",
   "execution_count": 20,
   "metadata": {},
   "outputs": [],
   "source": [
    "class BengaliTokenizer(BaseTokenizer):\n",
    "    def __init__(self, lang:str):\n",
    "        self.lang = lang\n",
    "        self.sp = spm.SentencePieceProcessor()\n",
    "        self.sp.Load(str(path/\"../tokenizer/bengali_lm.model\"))\n",
    "        \n",
    "    def tokenizer(self, t:str) -> List[str]:\n",
    "        return self.sp.EncodeAsPieces(t)"
   ]
  },
  {
   "cell_type": "code",
   "execution_count": 21,
   "metadata": {},
   "outputs": [],
   "source": [
    "sp = spm.SentencePieceProcessor()\n",
    "sp.Load(str(path/\"../tokenizer/bengali_lm.model\"))\n",
    "itos = [sp.IdToPiece(int(i)) for i in range(30000)]"
   ]
  },
  {
   "cell_type": "code",
   "execution_count": 22,
   "metadata": {},
   "outputs": [],
   "source": [
    "# 30,000 is the vocab size that we chose in sentencepiece\n",
    "bengali_vocab = Vocab(itos)"
   ]
  },
  {
   "cell_type": "code",
   "execution_count": 23,
   "metadata": {},
   "outputs": [],
   "source": [
    "tokenizer = Tokenizer(tok_func=BengaliTokenizer, lang='bn')"
   ]
  },
  {
   "cell_type": "code",
   "execution_count": 24,
   "metadata": {},
   "outputs": [
    {
     "data": {
      "text/plain": [
       "['xxunk', 'xxpad', 'xxbos', 'xxfld', 'xxmaj', 'xxup', 'xxrep', 'xxwrep']"
      ]
     },
     "execution_count": 24,
     "metadata": {},
     "output_type": "execute_result"
    }
   ],
   "source": [
    "tokenizer.special_cases"
   ]
  },
  {
   "cell_type": "code",
   "execution_count": 25,
   "metadata": {},
   "outputs": [],
   "source": [
    "data_lm = TextLMDataBunch.from_folder(path=path/'BengaliDataset', tokenizer=tokenizer, vocab=bengali_vocab)"
   ]
  },
  {
   "cell_type": "code",
   "execution_count": 26,
   "metadata": {},
   "outputs": [
    {
     "data": {
      "text/plain": [
       "64"
      ]
     },
     "execution_count": 26,
     "metadata": {},
     "output_type": "execute_result"
    }
   ],
   "source": [
    "data_lm.batch_size"
   ]
  },
  {
   "cell_type": "code",
   "execution_count": 28,
   "metadata": {},
   "outputs": [],
   "source": [
    "data_lm.save()"
   ]
  },
  {
   "cell_type": "code",
   "execution_count": 29,
   "metadata": {},
   "outputs": [
    {
     "data": {
      "text/html": [
       "<table>  <col width='5%'>  <col width='95%'>  <tr>\n",
       "    <th>idx</th>\n",
       "    <th>text</th>\n",
       "  </tr>\n",
       "  <tr>\n",
       "    <th>0</th>\n",
       "    <th>▁x x bo s ▁ফিলো লাউ স ▁৩৮ ৫ ▁একজন ▁গ্রিক ▁দার্শনিক ▁এবং ▁একজন ▁পি থা গো রিয়ান . ▁প্রাক ▁- স ক্রেট িয় ▁দার্শনিক । ▁) ▁l ▁তাঁর ▁দর্শন ▁অনুসারে ▁সব ▁বস্তু ই ▁সীমিত ▁ও ▁অসীম ▁উপাদান ে ▁নির্মিত , ▁আর ▁মহাবিশ্ব ▁সংখ্যা ▁দ্বারা ▁নির্ধারিত ▁হয় । ▁পৃথিবী ▁যে ▁মহাবিশ্বের ▁কেন্দ্রস্থল ▁নয় , ▁এই ▁ধারণা ▁তিনিই ▁প্রথম ▁প্রবর্তন ▁করেন ▁বলে ▁মনে ▁করা ▁হয় । ▁তিনি ▁আরো ▁বিশ্বাস ▁করতেন ▁যে</th>\n",
       "  </tr>\n",
       "  <tr>\n",
       "    <th>1</th>\n",
       "    <th>এফ ডিসি তে । ▁ছবির ▁ডাবিং , ▁সম্পাদনা ▁ও ▁মুদ্রণ ▁হয় ▁মিরপুর ের ▁একটি ▁ব্যক্তি মালিক ানা ▁স্টুডিওতে । ▁নয়ন ের ▁আলো ▁চলচ্চিত্রের ▁গীত ▁রচনা ▁ও ▁সঙ্গীত ▁পরিচালনা ▁করেছেন ▁আহমেদ ▁ ইমতিয়াজ ▁বুলবুল । ▁এই ▁চলচ্চিত্র ▁দিয়ে ▁সঙ্গীত ▁পরিচালনা ▁শুরু ▁করেন ▁আহমেদ ▁ ইমতিয়াজ ▁বুলবুল । ▁১৯৯৮ ▁সালে ▁একই ▁নামে ▁টলিউড ে ▁আরেকটি ▁চলচ্চিত্র ▁নির্মাণ ▁করা ▁হয় , ▁তাতে ▁\" আমার ▁সারা দেহ ▁খে য়ো গো ▁মাটি \", ▁\" আমার</th>\n",
       "  </tr>\n",
       "  <tr>\n",
       "    <th>2</th>\n",
       "    <th>▁৮ ▁জুন ▁২০১৪ ▁তারিখে ▁ব্রাজিলে ▁আসে । ▁ম্যাচ সেরা : মারি ও ▁গো ট জে ▁সহকারী ▁রেফারি গণ : রেন াতো ▁ফা ভেরা নি ▁আন্দ্রে য়া ▁ স্তে ফা নি ▁চতুর্থ ▁অফিসিয়াল : কার্ল োস ▁বের া ▁পঞ্চম ▁অফিসিয়াল : ক্রি স্ত িয়ান ▁লে স্কা নো ▁x x bo s ▁ডেনিস ▁ব্রুকস ▁লিডস ের ▁কিপাক্স ে ▁জন্মগ্রহণকারী ▁বিশিষ্ট ▁ইংরেজ ▁আন্তর্জাতিক ▁ক্রিকেটার ▁ছিলেন । ▁ইংল্যান্ড ▁ক্রিকেট ▁দলের ▁পক্ষে ▁একটিমাত্র ▁টেস্টে ▁অংশগ্রহণের</th>\n",
       "  </tr>\n",
       "  <tr>\n",
       "    <th>3</th>\n",
       "    <th>▁এদের ▁গায়ে র ▁রঙ ▁হয় ▁সাদা ▁রঙের ▁এবং ▁এদের ▁পাখনা র ▁রঙ ▁হয় ▁কালো ▁এবং ▁এদের ▁ঠোঁট ▁গোলাপী ▁রঙের ▁হয় । ▁এদের ▁ঠোঁট কে ▁পাখিদের ▁মধ্যে ▁সব থেকে ▁দীর্ঘ ▁ঠোঁট ▁বলে ▁মানা ▁হয় । ▁এদের ▁প্রধান ▁খাদ্য ▁হল ▁মাছ । ▁x x bo s ▁অ্যানড্রয়েড ▁৬ . ০ ▁\" মার্ শ ম্যা লো \" ▁অ্যানড্রয়েড ▁মোবাইল ▁অপারেটিং ▁সিস্টেমের ▁একটি ▁সংস্করণ । ▁এটির ▁প্রথম ▁পর্দা ▁উন্মোচ িত ▁হয় ▁২০১৫ সালের ▁মে</th>\n",
       "  </tr>\n",
       "  <tr>\n",
       "    <th>4</th>\n",
       "    <th>▁দুই ▁ভাইয়ের ▁মধ্যে ▁ইউ লির ▁গণিতে ▁ও ▁ইয়ে ভ্ ▁জেনি র ▁চিত্রাঙ্কন ে ▁আগ্রহ ▁ছিল , ▁তাদের ▁মায়ের ▁ভাষ্য ▁অনুযায়ী , ▁\" ভান িয়া ▁জন্মের ▁মুহূর্ত ▁থেকেই ▁ভিন্ন ▁ছিল ... ▁অন্য ▁কেউ ▁তার ▁মত ▁নয় ।\" ▁১৮৮৭ ▁সালের ▁মে ▁মাসে ▁বুন িনের ▁প্রথম ▁কবিতা ▁দি রি ভিন ্ ▁স্কি য়ে ▁নি শ্ ▁ চিয়ে ▁সেন্ট ▁পিটার্সবার্গ ের ▁সাহিত্য ▁সাময়িকী ▁ র দিন ায় ▁প্রকাশিত ▁হয় । ▁১৮৯১ ▁সালে ▁তাঁর ▁প্রথম</th>\n",
       "  </tr>\n",
       "</table>\n"
      ],
      "text/plain": [
       "<IPython.core.display.HTML object>"
      ]
     },
     "metadata": {},
     "output_type": "display_data"
    }
   ],
   "source": [
    "data_lm.show_batch()"
   ]
  },
  {
   "cell_type": "code",
   "execution_count": 30,
   "metadata": {},
   "outputs": [
    {
     "data": {
      "text/plain": [
       "30000"
      ]
     },
     "execution_count": 30,
     "metadata": {},
     "output_type": "execute_result"
    }
   ],
   "source": [
    "len(data_lm.vocab.itos)"
   ]
  },
  {
   "cell_type": "code",
   "execution_count": 31,
   "metadata": {},
   "outputs": [],
   "source": [
    "learn = language_model_learner(data_lm, drop_mult=0.3)"
   ]
  },
  {
   "cell_type": "code",
   "execution_count": 32,
   "metadata": {},
   "outputs": [
    {
     "data": {
      "text/plain": [
       "0"
      ]
     },
     "execution_count": 32,
     "metadata": {},
     "output_type": "execute_result"
    }
   ],
   "source": [
    "gc.collect()"
   ]
  },
  {
   "cell_type": "code",
   "execution_count": 33,
   "metadata": {},
   "outputs": [
    {
     "name": "stdout",
     "output_type": "stream",
     "text": [
      "LR Finder is complete, type {learner_name}.recorder.plot() to see the graph.\n"
     ]
    }
   ],
   "source": [
    "learn.lr_find()"
   ]
  },
  {
   "cell_type": "code",
   "execution_count": 34,
   "metadata": {},
   "outputs": [
    {
     "data": {
      "image/png": "[encoded data removed]",
      "text/plain": [
       "<Figure size 432x288 with 1 Axes>"
      ]
     },
     "metadata": {
      "needs_background": "light"
     },
     "output_type": "display_data"
    }
   ],
   "source": [
    "learn.recorder.plot()"
   ]
  },
  {
   "cell_type": "code",
   "execution_count": 35,
   "metadata": {},
   "outputs": [
    {
     "data": {
      "text/html": [
       "Total time: 14:50 <p><table style='width:300px; margin-bottom:10px'>\n",
       "  <tr>\n",
       "    <th>epoch</th>\n",
       "    <th>train_loss</th>\n",
       "    <th>valid_loss</th>\n",
       "    <th>accuracy</th>\n",
       "  </tr>\n",
       "  <tr>\n",
       "    <th>1</th>\n",
       "    <th>4.948041</th>\n",
       "    <th>4.842762</th>\n",
       "    <th>0.248783</th>\n",
       "  </tr>\n",
       "</table>\n"
      ],
      "text/plain": [
       "<IPython.core.display.HTML object>"
      ]
     },
     "metadata": {},
     "output_type": "display_data"
    }
   ],
   "source": [
    "learn.fit_one_cycle(1, 1e-2, moms=(0.8,0.7))"
   ]
  },
  {
   "cell_type": "code",
   "execution_count": 36,
   "metadata": {},
   "outputs": [],
   "source": [
    "learn.save('first', with_opt=True)"
   ]
  },
  {
   "cell_type": "code",
   "execution_count": 37,
   "metadata": {},
   "outputs": [],
   "source": [
    "learn.load('first', with_opt=True);"
   ]
  },
  {
   "cell_type": "code",
   "execution_count": 38,
   "metadata": {},
   "outputs": [],
   "source": [
    "learn.unfreeze()"
   ]
  },
  {
   "cell_type": "code",
   "execution_count": 39,
   "metadata": {},
   "outputs": [
    {
     "data": {
      "text/html": [
       "Total time: 1:14:33 <p><table style='width:300px; margin-bottom:10px'>\n",
       "  <tr>\n",
       "    <th>epoch</th>\n",
       "    <th>train_loss</th>\n",
       "    <th>valid_loss</th>\n",
       "    <th>accuracy</th>\n",
       "  </tr>\n",
       "  <tr>\n",
       "    <th>1</th>\n",
       "    <th>4.827759</th>\n",
       "    <th>4.959311</th>\n",
       "    <th>0.236807</th>\n",
       "  </tr>\n",
       "  <tr>\n",
       "    <th>2</th>\n",
       "    <th>4.998166</th>\n",
       "    <th>4.927812</th>\n",
       "    <th>0.237777</th>\n",
       "  </tr>\n",
       "  <tr>\n",
       "    <th>3</th>\n",
       "    <th>4.654697</th>\n",
       "    <th>4.664890</th>\n",
       "    <th>0.260734</th>\n",
       "  </tr>\n",
       "  <tr>\n",
       "    <th>4</th>\n",
       "    <th>4.411924</th>\n",
       "    <th>4.356752</th>\n",
       "    <th>0.292806</th>\n",
       "  </tr>\n",
       "  <tr>\n",
       "    <th>5</th>\n",
       "    <th>4.221450</th>\n",
       "    <th>4.244792</th>\n",
       "    <th>0.308013</th>\n",
       "  </tr>\n",
       "</table>\n"
      ],
      "text/plain": [
       "<IPython.core.display.HTML object>"
      ]
     },
     "metadata": {},
     "output_type": "display_data"
    }
   ],
   "source": [
    "learn.fit_one_cycle(5, 1e-2, moms=(0.8,0.7))"
   ]
  },
  {
   "cell_type": "code",
   "execution_count": 40,
   "metadata": {},
   "outputs": [],
   "source": [
    "learn.save('second_bn_lm', with_opt=True)"
   ]
  },
  {
   "cell_type": "code",
   "execution_count": 41,
   "metadata": {},
   "outputs": [],
   "source": [
    "learn.load('second_bn_lm', with_opt=True);"
   ]
  },
  {
   "cell_type": "code",
   "execution_count": 42,
   "metadata": {},
   "outputs": [
    {
     "data": {
      "text/html": [
       "Total time: 12:22:14 <p><table style='width:300px; margin-bottom:10px'>\n",
       "  <tr>\n",
       "    <th>epoch</th>\n",
       "    <th>train_loss</th>\n",
       "    <th>valid_loss</th>\n",
       "    <th>accuracy</th>\n",
       "  </tr>\n",
       "  <tr>\n",
       "    <th>1</th>\n",
       "    <th>4.009347</th>\n",
       "    <th>4.237153</th>\n",
       "    <th>0.309086</th>\n",
       "  </tr>\n",
       "  <tr>\n",
       "    <th>2</th>\n",
       "    <th>4.068880</th>\n",
       "    <th>4.230307</th>\n",
       "    <th>0.310127</th>\n",
       "  </tr>\n",
       "  <tr>\n",
       "    <th>3</th>\n",
       "    <th>4.025786</th>\n",
       "    <th>4.222913</th>\n",
       "    <th>0.311233</th>\n",
       "  </tr>\n",
       "  <tr>\n",
       "    <th>4</th>\n",
       "    <th>4.084812</th>\n",
       "    <th>4.213515</th>\n",
       "    <th>0.312699</th>\n",
       "  </tr>\n",
       "  <tr>\n",
       "    <th>5</th>\n",
       "    <th>4.012681</th>\n",
       "    <th>4.202868</th>\n",
       "    <th>0.314369</th>\n",
       "  </tr>\n",
       "  <tr>\n",
       "    <th>6</th>\n",
       "    <th>4.017428</th>\n",
       "    <th>4.192035</th>\n",
       "    <th>0.316188</th>\n",
       "  </tr>\n",
       "  <tr>\n",
       "    <th>7</th>\n",
       "    <th>4.103319</th>\n",
       "    <th>4.177714</th>\n",
       "    <th>0.318278</th>\n",
       "  </tr>\n",
       "  <tr>\n",
       "    <th>8</th>\n",
       "    <th>3.976610</th>\n",
       "    <th>4.163298</th>\n",
       "    <th>0.320328</th>\n",
       "  </tr>\n",
       "  <tr>\n",
       "    <th>9</th>\n",
       "    <th>3.965150</th>\n",
       "    <th>4.146911</th>\n",
       "    <th>0.323207</th>\n",
       "  </tr>\n",
       "  <tr>\n",
       "    <th>10</th>\n",
       "    <th>3.977377</th>\n",
       "    <th>4.131856</th>\n",
       "    <th>0.324999</th>\n",
       "  </tr>\n",
       "  <tr>\n",
       "    <th>11</th>\n",
       "    <th>3.893102</th>\n",
       "    <th>4.110701</th>\n",
       "    <th>0.328247</th>\n",
       "  </tr>\n",
       "  <tr>\n",
       "    <th>12</th>\n",
       "    <th>3.874590</th>\n",
       "    <th>4.098486</th>\n",
       "    <th>0.329878</th>\n",
       "  </tr>\n",
       "  <tr>\n",
       "    <th>13</th>\n",
       "    <th>3.904725</th>\n",
       "    <th>4.082543</th>\n",
       "    <th>0.332423</th>\n",
       "  </tr>\n",
       "  <tr>\n",
       "    <th>14</th>\n",
       "    <th>3.828716</th>\n",
       "    <th>4.062195</th>\n",
       "    <th>0.335301</th>\n",
       "  </tr>\n",
       "  <tr>\n",
       "    <th>15</th>\n",
       "    <th>3.838736</th>\n",
       "    <th>4.044175</th>\n",
       "    <th>0.338038</th>\n",
       "  </tr>\n",
       "  <tr>\n",
       "    <th>16</th>\n",
       "    <th>3.754807</th>\n",
       "    <th>4.027162</th>\n",
       "    <th>0.340862</th>\n",
       "  </tr>\n",
       "  <tr>\n",
       "    <th>17</th>\n",
       "    <th>3.859487</th>\n",
       "    <th>4.009208</th>\n",
       "    <th>0.343198</th>\n",
       "  </tr>\n",
       "  <tr>\n",
       "    <th>18</th>\n",
       "    <th>3.802318</th>\n",
       "    <th>3.996261</th>\n",
       "    <th>0.345522</th>\n",
       "  </tr>\n",
       "  <tr>\n",
       "    <th>19</th>\n",
       "    <th>3.793492</th>\n",
       "    <th>3.981155</th>\n",
       "    <th>0.347871</th>\n",
       "  </tr>\n",
       "  <tr>\n",
       "    <th>20</th>\n",
       "    <th>3.713931</th>\n",
       "    <th>3.961899</th>\n",
       "    <th>0.350669</th>\n",
       "  </tr>\n",
       "  <tr>\n",
       "    <th>21</th>\n",
       "    <th>3.835524</th>\n",
       "    <th>3.943910</th>\n",
       "    <th>0.353477</th>\n",
       "  </tr>\n",
       "  <tr>\n",
       "    <th>22</th>\n",
       "    <th>3.742234</th>\n",
       "    <th>3.932261</th>\n",
       "    <th>0.355534</th>\n",
       "  </tr>\n",
       "  <tr>\n",
       "    <th>23</th>\n",
       "    <th>3.741775</th>\n",
       "    <th>3.920077</th>\n",
       "    <th>0.357763</th>\n",
       "  </tr>\n",
       "  <tr>\n",
       "    <th>24</th>\n",
       "    <th>3.642041</th>\n",
       "    <th>3.902896</th>\n",
       "    <th>0.360374</th>\n",
       "  </tr>\n",
       "  <tr>\n",
       "    <th>25</th>\n",
       "    <th>3.697275</th>\n",
       "    <th>3.900927</th>\n",
       "    <th>0.360927</th>\n",
       "  </tr>\n",
       "  <tr>\n",
       "    <th>26</th>\n",
       "    <th>3.623130</th>\n",
       "    <th>3.879508</th>\n",
       "    <th>0.364660</th>\n",
       "  </tr>\n",
       "  <tr>\n",
       "    <th>27</th>\n",
       "    <th>3.633712</th>\n",
       "    <th>3.865559</th>\n",
       "    <th>0.366791</th>\n",
       "  </tr>\n",
       "  <tr>\n",
       "    <th>28</th>\n",
       "    <th>3.518990</th>\n",
       "    <th>3.857590</th>\n",
       "    <th>0.368107</th>\n",
       "  </tr>\n",
       "  <tr>\n",
       "    <th>29</th>\n",
       "    <th>3.594484</th>\n",
       "    <th>3.843713</th>\n",
       "    <th>0.370144</th>\n",
       "  </tr>\n",
       "  <tr>\n",
       "    <th>30</th>\n",
       "    <th>3.507067</th>\n",
       "    <th>3.832078</th>\n",
       "    <th>0.372371</th>\n",
       "  </tr>\n",
       "  <tr>\n",
       "    <th>31</th>\n",
       "    <th>3.716153</th>\n",
       "    <th>3.819005</th>\n",
       "    <th>0.374335</th>\n",
       "  </tr>\n",
       "  <tr>\n",
       "    <th>32</th>\n",
       "    <th>3.593219</th>\n",
       "    <th>3.811782</th>\n",
       "    <th>0.375303</th>\n",
       "  </tr>\n",
       "  <tr>\n",
       "    <th>33</th>\n",
       "    <th>3.502301</th>\n",
       "    <th>3.796065</th>\n",
       "    <th>0.378203</th>\n",
       "  </tr>\n",
       "  <tr>\n",
       "    <th>34</th>\n",
       "    <th>3.572576</th>\n",
       "    <th>3.788335</th>\n",
       "    <th>0.379310</th>\n",
       "  </tr>\n",
       "  <tr>\n",
       "    <th>35</th>\n",
       "    <th>3.462404</th>\n",
       "    <th>3.781771</th>\n",
       "    <th>0.380522</th>\n",
       "  </tr>\n",
       "  <tr>\n",
       "    <th>36</th>\n",
       "    <th>3.577689</th>\n",
       "    <th>3.771912</th>\n",
       "    <th>0.382226</th>\n",
       "  </tr>\n",
       "  <tr>\n",
       "    <th>37</th>\n",
       "    <th>3.497652</th>\n",
       "    <th>3.762339</th>\n",
       "    <th>0.384020</th>\n",
       "  </tr>\n",
       "  <tr>\n",
       "    <th>38</th>\n",
       "    <th>3.462030</th>\n",
       "    <th>3.756958</th>\n",
       "    <th>0.384644</th>\n",
       "  </tr>\n",
       "  <tr>\n",
       "    <th>39</th>\n",
       "    <th>3.530661</th>\n",
       "    <th>3.748603</th>\n",
       "    <th>0.386549</th>\n",
       "  </tr>\n",
       "  <tr>\n",
       "    <th>40</th>\n",
       "    <th>3.545969</th>\n",
       "    <th>3.741123</th>\n",
       "    <th>0.387542</th>\n",
       "  </tr>\n",
       "  <tr>\n",
       "    <th>41</th>\n",
       "    <th>3.388722</th>\n",
       "    <th>3.736875</th>\n",
       "    <th>0.388411</th>\n",
       "  </tr>\n",
       "  <tr>\n",
       "    <th>42</th>\n",
       "    <th>3.444721</th>\n",
       "    <th>3.731705</th>\n",
       "    <th>0.389101</th>\n",
       "  </tr>\n",
       "  <tr>\n",
       "    <th>43</th>\n",
       "    <th>3.467697</th>\n",
       "    <th>3.728993</th>\n",
       "    <th>0.389949</th>\n",
       "  </tr>\n",
       "  <tr>\n",
       "    <th>44</th>\n",
       "    <th>3.518365</th>\n",
       "    <th>3.726176</th>\n",
       "    <th>0.390130</th>\n",
       "  </tr>\n",
       "  <tr>\n",
       "    <th>45</th>\n",
       "    <th>3.400678</th>\n",
       "    <th>3.723341</th>\n",
       "    <th>0.390568</th>\n",
       "  </tr>\n",
       "  <tr>\n",
       "    <th>46</th>\n",
       "    <th>3.393230</th>\n",
       "    <th>3.722041</th>\n",
       "    <th>0.390854</th>\n",
       "  </tr>\n",
       "  <tr>\n",
       "    <th>47</th>\n",
       "    <th>3.453898</th>\n",
       "    <th>3.720731</th>\n",
       "    <th>0.391181</th>\n",
       "  </tr>\n",
       "  <tr>\n",
       "    <th>48</th>\n",
       "    <th>3.296242</th>\n",
       "    <th>3.720147</th>\n",
       "    <th>0.391206</th>\n",
       "  </tr>\n",
       "  <tr>\n",
       "    <th>49</th>\n",
       "    <th>3.383887</th>\n",
       "    <th>3.720031</th>\n",
       "    <th>0.391257</th>\n",
       "  </tr>\n",
       "  <tr>\n",
       "    <th>50</th>\n",
       "    <th>3.287951</th>\n",
       "    <th>3.720034</th>\n",
       "    <th>0.391262</th>\n",
       "  </tr>\n",
       "</table>\n"
      ],
      "text/plain": [
       "<IPython.core.display.HTML object>"
      ]
     },
     "metadata": {},
     "output_type": "display_data"
    }
   ],
   "source": [
    "learn.fit_one_cycle(50, 1e-3, moms=(0.8,0.7))"
   ]
  },
  {
   "cell_type": "code",
   "execution_count": 43,
   "metadata": {},
   "outputs": [],
   "source": [
    "learn.save('third_bn_lm', with_opt=True)"
   ]
  },
  {
   "cell_type": "code",
   "execution_count": 50,
   "metadata": {},
   "outputs": [],
   "source": [
    "learn.load('third_bn_lm', with_opt=True);"
   ]
  },
  {
   "cell_type": "code",
   "execution_count": 51,
   "metadata": {},
   "outputs": [],
   "source": [
    "TEXT = \"ফিলো লাউ\"\n",
    "N_WORDS = 40\n",
    "N_SENTENCES = 2"
   ]
  },
  {
   "cell_type": "code",
   "execution_count": 52,
   "metadata": {},
   "outputs": [
    {
     "name": "stdout",
     "output_type": "stream",
     "text": [
      "ফিলো লাউ টস ▁ ▁ডেল ইন ▁ ে গা জ ও ▁বে ▁জি ▁ছ য়ো ▁স্টি ▁ফা টি ▁ক ▁রে । ▁পে ▁ডিও ▁ভি ▁কে ▁চিন , ▁সাল গে ▁তে ▁দিল ▁রা ▁লাগা ▁ । স ন্দ ▁ন ▁ সী ▁রয়েছে ▁\n",
      "ফিলো লাউ সন জ বা দ্য ▁পাই ▁নামেও ▁পরিচিত ▁রুহুল ▁সনে ▁প্রটোকল ▁দ্বারা ▁পরিচিত ▁একটি ▁বাজিয়ে । ▁সাধারন ▁প্রতিক্রিয়ায় ▁গীত ▁হওয়ার ▁কথা ▁বলতে ▁কিছুটা ▁একটা ▁পরিবর্তন ▁বা ▁পরিবর্তন ▁ঘটায় ▁উপ স ার্ধ নির্দেশ ▁করা ▁যেতে ▁পারে , ▁এবং ▁ ▁সি ও ▁\n"
     ]
    }
   ],
   "source": [
    "print(\"\\n\".join(learn.predict(TEXT, N_WORDS, temperature=0.9) for _ in range(N_SENTENCES)))"
   ]
  },
  {
   "cell_type": "code",
   "execution_count": 53,
   "metadata": {},
   "outputs": [
    {
     "data": {
      "text/plain": [
       "41.2643941086108"
      ]
     },
     "execution_count": 53,
     "metadata": {},
     "output_type": "execute_result"
    }
   ],
   "source": [
    "np.exp(3.72)"
   ]
  },
  {
   "cell_type": "code",
   "execution_count": null,
   "metadata": {},
   "outputs": [],
   "source": []
  }
 ],
 "metadata": {
  "kernelspec": {
   "display_name": "Python 3",
   "language": "python",
   "name": "python3"
  },
  "language_info": {
   "codemirror_mode": {
    "name": "ipython",
    "version": 3
   },
   "file_extension": ".py",
   "mimetype": "text/x-python",
   "name": "python",
   "nbconvert_exporter": "python",
   "pygments_lexer": "ipython3",
   "version": "3.6.7"
  }
 },
 "nbformat": 4,
 "nbformat_minor": 2
}
