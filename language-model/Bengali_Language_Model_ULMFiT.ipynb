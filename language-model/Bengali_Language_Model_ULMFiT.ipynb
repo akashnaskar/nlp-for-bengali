{
 "cells": [
  {
   "cell_type": "code",
   "execution_count": 1,
   "metadata": {},
   "outputs": [],
   "source": [
    "%reload_ext autoreload\n",
    "%autoreload 2\n",
    "%matplotlib inline"
   ]
  },
  {
   "cell_type": "code",
   "execution_count": 2,
   "metadata": {},
   "outputs": [],
   "source": [
    "from fastai.text import *\n",
    "import numpy as np\n",
    "from sklearn.model_selection import train_test_split\n",
    "import pickle\n",
    "import sentencepiece as spm"
   ]
  },
  {
   "cell_type": "code",
   "execution_count": 3,
   "metadata": {},
   "outputs": [
    {
     "data": {
      "text/plain": [
       "('1.0.50.post1', '1.0.1.post2')"
      ]
     },
     "execution_count": 3,
     "metadata": {},
     "output_type": "execute_result"
    }
   ],
   "source": [
    "import fastai, torch\n",
    "fastai.__version__ , torch.__version__"
   ]
  },
  {
   "cell_type": "code",
   "execution_count": 4,
   "metadata": {},
   "outputs": [],
   "source": [
    "torch.cuda.set_device(0)"
   ]
  },
  {
   "cell_type": "code",
   "execution_count": 5,
   "metadata": {},
   "outputs": [],
   "source": [
    "path = Path('/home/gaurav/PycharmProjects/nlp-for-bengali/language-model')"
   ]
  },
  {
   "cell_type": "code",
   "execution_count": 6,
   "metadata": {},
   "outputs": [],
   "source": [
    "from inltk.tokenizer import BengaliTokenizer"
   ]
  },
  {
   "cell_type": "code",
   "execution_count": 7,
   "metadata": {},
   "outputs": [
    {
     "data": {
      "text/plain": [
       "inltk.tokenizer.BengaliTokenizer"
      ]
     },
     "execution_count": 7,
     "metadata": {},
     "output_type": "execute_result"
    }
   ],
   "source": [
    "BengaliTokenizer"
   ]
  },
  {
   "cell_type": "code",
   "execution_count": 8,
   "metadata": {},
   "outputs": [],
   "source": [
    "# class BengaliTokenizer(BaseTokenizer):\n",
    "#     def __init__(self, lang:str):\n",
    "#         self.lang = lang\n",
    "#         self.sp = spm.SentencePieceProcessor()\n",
    "#         self.sp.Load(str(path/\"../tokenizer/bengali_lm.model\"))\n",
    "        \n",
    "#     def tokenizer(self, t:str) -> List[str]:\n",
    "#         return self.sp.EncodeAsPieces(t)"
   ]
  },
  {
   "cell_type": "code",
   "execution_count": 9,
   "metadata": {},
   "outputs": [],
   "source": [
    "sp = spm.SentencePieceProcessor()\n",
    "sp.Load(str(path/\"../tokenizer/bengali_lm.model\"))\n",
    "itos = [sp.IdToPiece(int(i)) for i in range(30000)]"
   ]
  },
  {
   "cell_type": "code",
   "execution_count": 10,
   "metadata": {},
   "outputs": [],
   "source": [
    "# 30,000 is the vocab size that we chose in sentencepiece\n",
    "bengali_vocab = Vocab(itos)"
   ]
  },
  {
   "cell_type": "code",
   "execution_count": 11,
   "metadata": {},
   "outputs": [],
   "source": [
    "tokenizer = Tokenizer(tok_func=BengaliTokenizer, lang='bn')"
   ]
  },
  {
   "cell_type": "code",
   "execution_count": 12,
   "metadata": {},
   "outputs": [
    {
     "data": {
      "text/plain": [
       "['xxunk',\n",
       " 'xxpad',\n",
       " 'xxbos',\n",
       " 'xxeos',\n",
       " 'xxfld',\n",
       " 'xxmaj',\n",
       " 'xxup',\n",
       " 'xxrep',\n",
       " 'xxwrep']"
      ]
     },
     "execution_count": 12,
     "metadata": {},
     "output_type": "execute_result"
    }
   ],
   "source": [
    "tokenizer.special_cases"
   ]
  },
  {
   "cell_type": "code",
   "execution_count": 15,
   "metadata": {},
   "outputs": [],
   "source": [
    "data_lm = TextLMDataBunch.from_folder(path=path/'BengaliDataset', tokenizer=tokenizer, vocab=bengali_vocab)"
   ]
  },
  {
   "cell_type": "code",
   "execution_count": 16,
   "metadata": {},
   "outputs": [
    {
     "data": {
      "text/plain": [
       "64"
      ]
     },
     "execution_count": 16,
     "metadata": {},
     "output_type": "execute_result"
    }
   ],
   "source": [
    "data_lm.batch_size"
   ]
  },
  {
   "cell_type": "code",
   "execution_count": 17,
   "metadata": {},
   "outputs": [],
   "source": [
    "data_lm.save()"
   ]
  },
  {
   "cell_type": "code",
   "execution_count": 29,
   "metadata": {},
   "outputs": [
    {
     "data": {
      "text/html": [
       "<table>  <col width='5%'>  <col width='95%'>  <tr>\n",
       "    <th>idx</th>\n",
       "    <th>text</th>\n",
       "  </tr>\n",
       "  <tr>\n",
       "    <th>0</th>\n",
       "    <th>▁x x bo s ▁ফিলো লাউ স ▁৩৮ ৫ ▁একজন ▁গ্রিক ▁দার্শনিক ▁এবং ▁একজন ▁পি থা গো রিয়ান . ▁প্রাক ▁- স ক্রেট িয় ▁দার্শনিক । ▁) ▁l ▁তাঁর ▁দর্শন ▁অনুসারে ▁সব ▁বস্তু ই ▁সীমিত ▁ও ▁অসীম ▁উপাদান ে ▁নির্মিত , ▁আর ▁মহাবিশ্ব ▁সংখ্যা ▁দ্বারা ▁নির্ধারিত ▁হয় । ▁পৃথিবী ▁যে ▁মহাবিশ্বের ▁কেন্দ্রস্থল ▁নয় , ▁এই ▁ধারণা ▁তিনিই ▁প্রথম ▁প্রবর্তন ▁করেন ▁বলে ▁মনে ▁করা ▁হয় । ▁তিনি ▁আরো ▁বিশ্বাস ▁করতেন ▁যে</th>\n",
       "  </tr>\n",
       "  <tr>\n",
       "    <th>1</th>\n",
       "    <th>এফ ডিসি তে । ▁ছবির ▁ডাবিং , ▁সম্পাদনা ▁ও ▁মুদ্রণ ▁হয় ▁মিরপুর ের ▁একটি ▁ব্যক্তি মালিক ানা ▁স্টুডিওতে । ▁নয়ন ের ▁আলো ▁চলচ্চিত্রের ▁গীত ▁রচনা ▁ও ▁সঙ্গীত ▁পরিচালনা ▁করেছেন ▁আহমেদ ▁ ইমতিয়াজ ▁বুলবুল । ▁এই ▁চলচ্চিত্র ▁দিয়ে ▁সঙ্গীত ▁পরিচালনা ▁শুরু ▁করেন ▁আহমেদ ▁ ইমতিয়াজ ▁বুলবুল । ▁১৯৯৮ ▁সালে ▁একই ▁নামে ▁টলিউড ে ▁আরেকটি ▁চলচ্চিত্র ▁নির্মাণ ▁করা ▁হয় , ▁তাতে ▁\" আমার ▁সারা দেহ ▁খে য়ো গো ▁মাটি \", ▁\" আমার</th>\n",
       "  </tr>\n",
       "  <tr>\n",
       "    <th>2</th>\n",
       "    <th>▁৮ ▁জুন ▁২০১৪ ▁তারিখে ▁ব্রাজিলে ▁আসে । ▁ম্যাচ সেরা : মারি ও ▁গো ট জে ▁সহকারী ▁রেফারি গণ : রেন াতো ▁ফা ভেরা নি ▁আন্দ্রে য়া ▁ স্তে ফা নি ▁চতুর্থ ▁অফিসিয়াল : কার্ল োস ▁বের া ▁পঞ্চম ▁অফিসিয়াল : ক্রি স্ত িয়ান ▁লে স্কা নো ▁x x bo s ▁ডেনিস ▁ব্রুকস ▁লিডস ের ▁কিপাক্স ে ▁জন্মগ্রহণকারী ▁বিশিষ্ট ▁ইংরেজ ▁আন্তর্জাতিক ▁ক্রিকেটার ▁ছিলেন । ▁ইংল্যান্ড ▁ক্রিকেট ▁দলের ▁পক্ষে ▁একটিমাত্র ▁টেস্টে ▁অংশগ্রহণের</th>\n",
       "  </tr>\n",
       "  <tr>\n",
       "    <th>3</th>\n",
       "    <th>▁এদের ▁গায়ে র ▁রঙ ▁হয় ▁সাদা ▁রঙের ▁এবং ▁এদের ▁পাখনা র ▁রঙ ▁হয় ▁কালো ▁এবং ▁এদের ▁ঠোঁট ▁গোলাপী ▁রঙের ▁হয় । ▁এদের ▁ঠোঁট কে ▁পাখিদের ▁মধ্যে ▁সব থেকে ▁দীর্ঘ ▁ঠোঁট ▁বলে ▁মানা ▁হয় । ▁এদের ▁প্রধান ▁খাদ্য ▁হল ▁মাছ । ▁x x bo s ▁অ্যানড্রয়েড ▁৬ . ০ ▁\" মার্ শ ম্যা লো \" ▁অ্যানড্রয়েড ▁মোবাইল ▁অপারেটিং ▁সিস্টেমের ▁একটি ▁সংস্করণ । ▁এটির ▁প্রথম ▁পর্দা ▁উন্মোচ িত ▁হয় ▁২০১৫ সালের ▁মে</th>\n",
       "  </tr>\n",
       "  <tr>\n",
       "    <th>4</th>\n",
       "    <th>▁দুই ▁ভাইয়ের ▁মধ্যে ▁ইউ লির ▁গণিতে ▁ও ▁ইয়ে ভ্ ▁জেনি র ▁চিত্রাঙ্কন ে ▁আগ্রহ ▁ছিল , ▁তাদের ▁মায়ের ▁ভাষ্য ▁অনুযায়ী , ▁\" ভান িয়া ▁জন্মের ▁মুহূর্ত ▁থেকেই ▁ভিন্ন ▁ছিল ... ▁অন্য ▁কেউ ▁তার ▁মত ▁নয় ।\" ▁১৮৮৭ ▁সালের ▁মে ▁মাসে ▁বুন িনের ▁প্রথম ▁কবিতা ▁দি রি ভিন ্ ▁স্কি য়ে ▁নি শ্ ▁ চিয়ে ▁সেন্ট ▁পিটার্সবার্গ ের ▁সাহিত্য ▁সাময়িকী ▁ র দিন ায় ▁প্রকাশিত ▁হয় । ▁১৮৯১ ▁সালে ▁তাঁর ▁প্রথম</th>\n",
       "  </tr>\n",
       "</table>\n"
      ],
      "text/plain": [
       "<IPython.core.display.HTML object>"
      ]
     },
     "metadata": {},
     "output_type": "display_data"
    }
   ],
   "source": [
    "data_lm.show_batch()"
   ]
  },
  {
   "cell_type": "code",
   "execution_count": 18,
   "metadata": {},
   "outputs": [
    {
     "data": {
      "text/plain": [
       "30000"
      ]
     },
     "execution_count": 18,
     "metadata": {},
     "output_type": "execute_result"
    }
   ],
   "source": [
    "len(data_lm.vocab.itos)"
   ]
  },
  {
   "cell_type": "code",
   "execution_count": 19,
   "metadata": {},
   "outputs": [
    {
     "name": "stderr",
     "output_type": "stream",
     "text": [
      "/home/gaurav/anaconda3/envs/fastai-bleed/lib/python3.6/site-packages/fastai/datasets.py:164: YAMLLoadWarning: calling yaml.load() without Loader=... is deprecated, as the default Loader is unsafe. Please read https://msg.pyyaml.org/load for full details.\n",
      "  with open(fpath, 'r') as yaml_file: return yaml.load(yaml_file)\n"
     ]
    }
   ],
   "source": [
    "learn = language_model_learner(data_lm, AWD_LSTM, drop_mult=0.3)"
   ]
  },
  {
   "cell_type": "code",
   "execution_count": 20,
   "metadata": {},
   "outputs": [
    {
     "data": {
      "text/plain": [
       "49"
      ]
     },
     "execution_count": 20,
     "metadata": {},
     "output_type": "execute_result"
    }
   ],
   "source": [
    "gc.collect()"
   ]
  },
  {
   "cell_type": "code",
   "execution_count": 33,
   "metadata": {},
   "outputs": [
    {
     "name": "stdout",
     "output_type": "stream",
     "text": [
      "LR Finder is complete, type {learner_name}.recorder.plot() to see the graph.\n"
     ]
    }
   ],
   "source": [
    "learn.lr_find()"
   ]
  },
  {
   "cell_type": "code",
   "execution_count": 34,
   "metadata": {},
   "outputs": [
    {
     "data": {
      "image/png": "[encoded data removed]",
      "text/plain": [
       "<Figure size 432x288 with 1 Axes>"
      ]
     },
     "metadata": {
      "needs_background": "light"
     },
     "output_type": "display_data"
    }
   ],
   "source": [
    "learn.recorder.plot()"
   ]
  },
  {
   "cell_type": "code",
   "execution_count": 35,
   "metadata": {},
   "outputs": [
    {
     "data": {
      "text/html": [
       "Total time: 14:50 <p><table style='width:300px; margin-bottom:10px'>\n",
       "  <tr>\n",
       "    <th>epoch</th>\n",
       "    <th>train_loss</th>\n",
       "    <th>valid_loss</th>\n",
       "    <th>accuracy</th>\n",
       "  </tr>\n",
       "  <tr>\n",
       "    <th>1</th>\n",
       "    <th>4.948041</th>\n",
       "    <th>4.842762</th>\n",
       "    <th>0.248783</th>\n",
       "  </tr>\n",
       "</table>\n"
      ],
      "text/plain": [
       "<IPython.core.display.HTML object>"
      ]
     },
     "metadata": {},
     "output_type": "display_data"
    }
   ],
   "source": [
    "learn.fit_one_cycle(1, 1e-2, moms=(0.8,0.7))"
   ]
  },
  {
   "cell_type": "code",
   "execution_count": 36,
   "metadata": {},
   "outputs": [],
   "source": [
    "learn.save('first', with_opt=True)"
   ]
  },
  {
   "cell_type": "code",
   "execution_count": 21,
   "metadata": {},
   "outputs": [],
   "source": [
    "learn.load('first', with_opt=True);"
   ]
  },
  {
   "cell_type": "code",
   "execution_count": 38,
   "metadata": {},
   "outputs": [],
   "source": [
    "learn.unfreeze()"
   ]
  },
  {
   "cell_type": "code",
   "execution_count": 39,
   "metadata": {},
   "outputs": [
    {
     "data": {
      "text/html": [
       "Total time: 1:14:33 <p><table style='width:300px; margin-bottom:10px'>\n",
       "  <tr>\n",
       "    <th>epoch</th>\n",
       "    <th>train_loss</th>\n",
       "    <th>valid_loss</th>\n",
       "    <th>accuracy</th>\n",
       "  </tr>\n",
       "  <tr>\n",
       "    <th>1</th>\n",
       "    <th>4.827759</th>\n",
       "    <th>4.959311</th>\n",
       "    <th>0.236807</th>\n",
       "  </tr>\n",
       "  <tr>\n",
       "    <th>2</th>\n",
       "    <th>4.998166</th>\n",
       "    <th>4.927812</th>\n",
       "    <th>0.237777</th>\n",
       "  </tr>\n",
       "  <tr>\n",
       "    <th>3</th>\n",
       "    <th>4.654697</th>\n",
       "    <th>4.664890</th>\n",
       "    <th>0.260734</th>\n",
       "  </tr>\n",
       "  <tr>\n",
       "    <th>4</th>\n",
       "    <th>4.411924</th>\n",
       "    <th>4.356752</th>\n",
       "    <th>0.292806</th>\n",
       "  </tr>\n",
       "  <tr>\n",
       "    <th>5</th>\n",
       "    <th>4.221450</th>\n",
       "    <th>4.244792</th>\n",
       "    <th>0.308013</th>\n",
       "  </tr>\n",
       "</table>\n"
      ],
      "text/plain": [
       "<IPython.core.display.HTML object>"
      ]
     },
     "metadata": {},
     "output_type": "display_data"
    }
   ],
   "source": [
    "learn.fit_one_cycle(5, 1e-2, moms=(0.8,0.7))"
   ]
  },
  {
   "cell_type": "code",
   "execution_count": 40,
   "metadata": {},
   "outputs": [],
   "source": [
    "learn.save('second_bn_lm', with_opt=True)"
   ]
  },
  {
   "cell_type": "code",
   "execution_count": 22,
   "metadata": {},
   "outputs": [],
   "source": [
    "learn.load('second_bn_lm', with_opt=True);"
   ]
  },
  {
   "cell_type": "code",
   "execution_count": 42,
   "metadata": {},
   "outputs": [
    {
     "data": {
      "text/html": [
       "Total time: 12:22:14 <p><table style='width:300px; margin-bottom:10px'>\n",
       "  <tr>\n",
       "    <th>epoch</th>\n",
       "    <th>train_loss</th>\n",
       "    <th>valid_loss</th>\n",
       "    <th>accuracy</th>\n",
       "  </tr>\n",
       "  <tr>\n",
       "    <th>1</th>\n",
       "    <th>4.009347</th>\n",
       "    <th>4.237153</th>\n",
       "    <th>0.309086</th>\n",
       "  </tr>\n",
       "  <tr>\n",
       "    <th>2</th>\n",
       "    <th>4.068880</th>\n",
       "    <th>4.230307</th>\n",
       "    <th>0.310127</th>\n",
       "  </tr>\n",
       "  <tr>\n",
       "    <th>3</th>\n",
       "    <th>4.025786</th>\n",
       "    <th>4.222913</th>\n",
       "    <th>0.311233</th>\n",
       "  </tr>\n",
       "  <tr>\n",
       "    <th>4</th>\n",
       "    <th>4.084812</th>\n",
       "    <th>4.213515</th>\n",
       "    <th>0.312699</th>\n",
       "  </tr>\n",
       "  <tr>\n",
       "    <th>5</th>\n",
       "    <th>4.012681</th>\n",
       "    <th>4.202868</th>\n",
       "    <th>0.314369</th>\n",
       "  </tr>\n",
       "  <tr>\n",
       "    <th>6</th>\n",
       "    <th>4.017428</th>\n",
       "    <th>4.192035</th>\n",
       "    <th>0.316188</th>\n",
       "  </tr>\n",
       "  <tr>\n",
       "    <th>7</th>\n",
       "    <th>4.103319</th>\n",
       "    <th>4.177714</th>\n",
       "    <th>0.318278</th>\n",
       "  </tr>\n",
       "  <tr>\n",
       "    <th>8</th>\n",
       "    <th>3.976610</th>\n",
       "    <th>4.163298</th>\n",
       "    <th>0.320328</th>\n",
       "  </tr>\n",
       "  <tr>\n",
       "    <th>9</th>\n",
       "    <th>3.965150</th>\n",
       "    <th>4.146911</th>\n",
       "    <th>0.323207</th>\n",
       "  </tr>\n",
       "  <tr>\n",
       "    <th>10</th>\n",
       "    <th>3.977377</th>\n",
       "    <th>4.131856</th>\n",
       "    <th>0.324999</th>\n",
       "  </tr>\n",
       "  <tr>\n",
       "    <th>11</th>\n",
       "    <th>3.893102</th>\n",
       "    <th>4.110701</th>\n",
       "    <th>0.328247</th>\n",
       "  </tr>\n",
       "  <tr>\n",
       "    <th>12</th>\n",
       "    <th>3.874590</th>\n",
       "    <th>4.098486</th>\n",
       "    <th>0.329878</th>\n",
       "  </tr>\n",
       "  <tr>\n",
       "    <th>13</th>\n",
       "    <th>3.904725</th>\n",
       "    <th>4.082543</th>\n",
       "    <th>0.332423</th>\n",
       "  </tr>\n",
       "  <tr>\n",
       "    <th>14</th>\n",
       "    <th>3.828716</th>\n",
       "    <th>4.062195</th>\n",
       "    <th>0.335301</th>\n",
       "  </tr>\n",
       "  <tr>\n",
       "    <th>15</th>\n",
       "    <th>3.838736</th>\n",
       "    <th>4.044175</th>\n",
       "    <th>0.338038</th>\n",
       "  </tr>\n",
       "  <tr>\n",
       "    <th>16</th>\n",
       "    <th>3.754807</th>\n",
       "    <th>4.027162</th>\n",
       "    <th>0.340862</th>\n",
       "  </tr>\n",
       "  <tr>\n",
       "    <th>17</th>\n",
       "    <th>3.859487</th>\n",
       "    <th>4.009208</th>\n",
       "    <th>0.343198</th>\n",
       "  </tr>\n",
       "  <tr>\n",
       "    <th>18</th>\n",
       "    <th>3.802318</th>\n",
       "    <th>3.996261</th>\n",
       "    <th>0.345522</th>\n",
       "  </tr>\n",
       "  <tr>\n",
       "    <th>19</th>\n",
       "    <th>3.793492</th>\n",
       "    <th>3.981155</th>\n",
       "    <th>0.347871</th>\n",
       "  </tr>\n",
       "  <tr>\n",
       "    <th>20</th>\n",
       "    <th>3.713931</th>\n",
       "    <th>3.961899</th>\n",
       "    <th>0.350669</th>\n",
       "  </tr>\n",
       "  <tr>\n",
       "    <th>21</th>\n",
       "    <th>3.835524</th>\n",
       "    <th>3.943910</th>\n",
       "    <th>0.353477</th>\n",
       "  </tr>\n",
       "  <tr>\n",
       "    <th>22</th>\n",
       "    <th>3.742234</th>\n",
       "    <th>3.932261</th>\n",
       "    <th>0.355534</th>\n",
       "  </tr>\n",
       "  <tr>\n",
       "    <th>23</th>\n",
       "    <th>3.741775</th>\n",
       "    <th>3.920077</th>\n",
       "    <th>0.357763</th>\n",
       "  </tr>\n",
       "  <tr>\n",
       "    <th>24</th>\n",
       "    <th>3.642041</th>\n",
       "    <th>3.902896</th>\n",
       "    <th>0.360374</th>\n",
       "  </tr>\n",
       "  <tr>\n",
       "    <th>25</th>\n",
       "    <th>3.697275</th>\n",
       "    <th>3.900927</th>\n",
       "    <th>0.360927</th>\n",
       "  </tr>\n",
       "  <tr>\n",
       "    <th>26</th>\n",
       "    <th>3.623130</th>\n",
       "    <th>3.879508</th>\n",
       "    <th>0.364660</th>\n",
       "  </tr>\n",
       "  <tr>\n",
       "    <th>27</th>\n",
       "    <th>3.633712</th>\n",
       "    <th>3.865559</th>\n",
       "    <th>0.366791</th>\n",
       "  </tr>\n",
       "  <tr>\n",
       "    <th>28</th>\n",
       "    <th>3.518990</th>\n",
       "    <th>3.857590</th>\n",
       "    <th>0.368107</th>\n",
       "  </tr>\n",
       "  <tr>\n",
       "    <th>29</th>\n",
       "    <th>3.594484</th>\n",
       "    <th>3.843713</th>\n",
       "    <th>0.370144</th>\n",
       "  </tr>\n",
       "  <tr>\n",
       "    <th>30</th>\n",
       "    <th>3.507067</th>\n",
       "    <th>3.832078</th>\n",
       "    <th>0.372371</th>\n",
       "  </tr>\n",
       "  <tr>\n",
       "    <th>31</th>\n",
       "    <th>3.716153</th>\n",
       "    <th>3.819005</th>\n",
       "    <th>0.374335</th>\n",
       "  </tr>\n",
       "  <tr>\n",
       "    <th>32</th>\n",
       "    <th>3.593219</th>\n",
       "    <th>3.811782</th>\n",
       "    <th>0.375303</th>\n",
       "  </tr>\n",
       "  <tr>\n",
       "    <th>33</th>\n",
       "    <th>3.502301</th>\n",
       "    <th>3.796065</th>\n",
       "    <th>0.378203</th>\n",
       "  </tr>\n",
       "  <tr>\n",
       "    <th>34</th>\n",
       "    <th>3.572576</th>\n",
       "    <th>3.788335</th>\n",
       "    <th>0.379310</th>\n",
       "  </tr>\n",
       "  <tr>\n",
       "    <th>35</th>\n",
       "    <th>3.462404</th>\n",
       "    <th>3.781771</th>\n",
       "    <th>0.380522</th>\n",
       "  </tr>\n",
       "  <tr>\n",
       "    <th>36</th>\n",
       "    <th>3.577689</th>\n",
       "    <th>3.771912</th>\n",
       "    <th>0.382226</th>\n",
       "  </tr>\n",
       "  <tr>\n",
       "    <th>37</th>\n",
       "    <th>3.497652</th>\n",
       "    <th>3.762339</th>\n",
       "    <th>0.384020</th>\n",
       "  </tr>\n",
       "  <tr>\n",
       "    <th>38</th>\n",
       "    <th>3.462030</th>\n",
       "    <th>3.756958</th>\n",
       "    <th>0.384644</th>\n",
       "  </tr>\n",
       "  <tr>\n",
       "    <th>39</th>\n",
       "    <th>3.530661</th>\n",
       "    <th>3.748603</th>\n",
       "    <th>0.386549</th>\n",
       "  </tr>\n",
       "  <tr>\n",
       "    <th>40</th>\n",
       "    <th>3.545969</th>\n",
       "    <th>3.741123</th>\n",
       "    <th>0.387542</th>\n",
       "  </tr>\n",
       "  <tr>\n",
       "    <th>41</th>\n",
       "    <th>3.388722</th>\n",
       "    <th>3.736875</th>\n",
       "    <th>0.388411</th>\n",
       "  </tr>\n",
       "  <tr>\n",
       "    <th>42</th>\n",
       "    <th>3.444721</th>\n",
       "    <th>3.731705</th>\n",
       "    <th>0.389101</th>\n",
       "  </tr>\n",
       "  <tr>\n",
       "    <th>43</th>\n",
       "    <th>3.467697</th>\n",
       "    <th>3.728993</th>\n",
       "    <th>0.389949</th>\n",
       "  </tr>\n",
       "  <tr>\n",
       "    <th>44</th>\n",
       "    <th>3.518365</th>\n",
       "    <th>3.726176</th>\n",
       "    <th>0.390130</th>\n",
       "  </tr>\n",
       "  <tr>\n",
       "    <th>45</th>\n",
       "    <th>3.400678</th>\n",
       "    <th>3.723341</th>\n",
       "    <th>0.390568</th>\n",
       "  </tr>\n",
       "  <tr>\n",
       "    <th>46</th>\n",
       "    <th>3.393230</th>\n",
       "    <th>3.722041</th>\n",
       "    <th>0.390854</th>\n",
       "  </tr>\n",
       "  <tr>\n",
       "    <th>47</th>\n",
       "    <th>3.453898</th>\n",
       "    <th>3.720731</th>\n",
       "    <th>0.391181</th>\n",
       "  </tr>\n",
       "  <tr>\n",
       "    <th>48</th>\n",
       "    <th>3.296242</th>\n",
       "    <th>3.720147</th>\n",
       "    <th>0.391206</th>\n",
       "  </tr>\n",
       "  <tr>\n",
       "    <th>49</th>\n",
       "    <th>3.383887</th>\n",
       "    <th>3.720031</th>\n",
       "    <th>0.391257</th>\n",
       "  </tr>\n",
       "  <tr>\n",
       "    <th>50</th>\n",
       "    <th>3.287951</th>\n",
       "    <th>3.720034</th>\n",
       "    <th>0.391262</th>\n",
       "  </tr>\n",
       "</table>\n"
      ],
      "text/plain": [
       "<IPython.core.display.HTML object>"
      ]
     },
     "metadata": {},
     "output_type": "display_data"
    }
   ],
   "source": [
    "learn.fit_one_cycle(50, 1e-3, moms=(0.8,0.7))"
   ]
  },
  {
   "cell_type": "code",
   "execution_count": 43,
   "metadata": {},
   "outputs": [],
   "source": [
    "learn.save('third_bn_lm', with_opt=True)"
   ]
  },
  {
   "cell_type": "code",
   "execution_count": 23,
   "metadata": {},
   "outputs": [],
   "source": [
    "learn.load('third_bn_lm', with_opt=True);"
   ]
  },
  {
   "cell_type": "code",
   "execution_count": 51,
   "metadata": {},
   "outputs": [],
   "source": [
    "TEXT = \"ফিলো লাউ\"\n",
    "N_WORDS = 40\n",
    "N_SENTENCES = 2"
   ]
  },
  {
   "cell_type": "code",
   "execution_count": 52,
   "metadata": {},
   "outputs": [
    {
     "name": "stdout",
     "output_type": "stream",
     "text": [
      "ফিলো লাউ টস ▁ ▁ডেল ইন ▁ ে গা জ ও ▁বে ▁জি ▁ছ য়ো ▁স্টি ▁ফা টি ▁ক ▁রে । ▁পে ▁ডিও ▁ভি ▁কে ▁চিন , ▁সাল গে ▁তে ▁দিল ▁রা ▁লাগা ▁ । স ন্দ ▁ন ▁ সী ▁রয়েছে ▁\n",
      "ফিলো লাউ সন জ বা দ্য ▁পাই ▁নামেও ▁পরিচিত ▁রুহুল ▁সনে ▁প্রটোকল ▁দ্বারা ▁পরিচিত ▁একটি ▁বাজিয়ে । ▁সাধারন ▁প্রতিক্রিয়ায় ▁গীত ▁হওয়ার ▁কথা ▁বলতে ▁কিছুটা ▁একটা ▁পরিবর্তন ▁বা ▁পরিবর্তন ▁ঘটায় ▁উপ স ার্ধ নির্দেশ ▁করা ▁যেতে ▁পারে , ▁এবং ▁ ▁সি ও ▁\n"
     ]
    }
   ],
   "source": [
    "print(\"\\n\".join(learn.predict(TEXT, N_WORDS, temperature=0.9) for _ in range(N_SENTENCES)))"
   ]
  },
  {
   "cell_type": "code",
   "execution_count": 53,
   "metadata": {},
   "outputs": [
    {
     "data": {
      "text/plain": [
       "41.2643941086108"
      ]
     },
     "execution_count": 53,
     "metadata": {},
     "output_type": "execute_result"
    }
   ],
   "source": [
    "np.exp(3.72)"
   ]
  },
  {
   "cell_type": "code",
   "execution_count": 24,
   "metadata": {},
   "outputs": [],
   "source": [
    "defaults.device = torch.device('cpu')\n",
    "learn.model.eval()\n",
    "learn.export()"
   ]
  },
  {
   "cell_type": "code",
   "execution_count": 13,
   "metadata": {},
   "outputs": [],
   "source": [
    "# Generating embedding vectors for visualization"
   ]
  },
  {
   "cell_type": "code",
   "execution_count": 14,
   "metadata": {},
   "outputs": [
    {
     "data": {
      "text/plain": [
       "PosixPath('/home/gaurav/PycharmProjects/nlp-for-bengali/language-model')"
      ]
     },
     "execution_count": 14,
     "metadata": {},
     "output_type": "execute_result"
    }
   ],
   "source": [
    "path"
   ]
  },
  {
   "cell_type": "code",
   "execution_count": 15,
   "metadata": {},
   "outputs": [],
   "source": [
    "defaults.device = torch.device('cpu')"
   ]
  },
  {
   "cell_type": "code",
   "execution_count": 17,
   "metadata": {},
   "outputs": [],
   "source": [
    "learn = load_learner(path / 'BengaliDataset/')"
   ]
  },
  {
   "cell_type": "code",
   "execution_count": 18,
   "metadata": {},
   "outputs": [],
   "source": [
    "encoder = get_model(learn.model)[0]"
   ]
  },
  {
   "cell_type": "code",
   "execution_count": 19,
   "metadata": {},
   "outputs": [
    {
     "data": {
      "text/plain": [
       "torch.Size([30000, 400])"
      ]
     },
     "execution_count": 19,
     "metadata": {},
     "output_type": "execute_result"
    }
   ],
   "source": [
    "encoder.state_dict()['encoder.weight'].shape"
   ]
  },
  {
   "cell_type": "code",
   "execution_count": 20,
   "metadata": {},
   "outputs": [],
   "source": [
    "embeddings = encoder.state_dict()['encoder.weight']"
   ]
  },
  {
   "cell_type": "code",
   "execution_count": 21,
   "metadata": {},
   "outputs": [],
   "source": [
    "embeddings = np.array(embeddings)"
   ]
  },
  {
   "cell_type": "code",
   "execution_count": 22,
   "metadata": {},
   "outputs": [
    {
     "data": {
      "text/plain": [
       "(400,)"
      ]
     },
     "execution_count": 22,
     "metadata": {},
     "output_type": "execute_result"
    }
   ],
   "source": [
    "embeddings[0].shape"
   ]
  },
  {
   "cell_type": "code",
   "execution_count": 23,
   "metadata": {},
   "outputs": [],
   "source": [
    "df = pd.DataFrame(embeddings)"
   ]
  },
  {
   "cell_type": "code",
   "execution_count": 24,
   "metadata": {},
   "outputs": [
    {
     "data": {
      "text/plain": [
       "(30000, 400)"
      ]
     },
     "execution_count": 24,
     "metadata": {},
     "output_type": "execute_result"
    }
   ],
   "source": [
    "df.shape"
   ]
  },
  {
   "cell_type": "code",
   "execution_count": 25,
   "metadata": {},
   "outputs": [],
   "source": [
    "df.to_csv('embeddings.tsv', sep='\\t', index=False, header=False)"
   ]
  },
  {
   "cell_type": "code",
   "execution_count": 26,
   "metadata": {},
   "outputs": [
    {
     "data": {
      "text/html": [
       "<div>\n",
       "<style scoped>\n",
       "    .dataframe tbody tr th:only-of-type {\n",
       "        vertical-align: middle;\n",
       "    }\n",
       "\n",
       "    .dataframe tbody tr th {\n",
       "        vertical-align: top;\n",
       "    }\n",
       "\n",
       "    .dataframe thead th {\n",
       "        text-align: right;\n",
       "    }\n",
       "</style>\n",
       "<table border=\"1\" class=\"dataframe\">\n",
       "  <thead>\n",
       "    <tr style=\"text-align: right;\">\n",
       "      <th></th>\n",
       "      <th>0</th>\n",
       "      <th>1</th>\n",
       "      <th>2</th>\n",
       "      <th>3</th>\n",
       "      <th>4</th>\n",
       "      <th>5</th>\n",
       "      <th>6</th>\n",
       "      <th>7</th>\n",
       "      <th>8</th>\n",
       "      <th>9</th>\n",
       "      <th>...</th>\n",
       "      <th>390</th>\n",
       "      <th>391</th>\n",
       "      <th>392</th>\n",
       "      <th>393</th>\n",
       "      <th>394</th>\n",
       "      <th>395</th>\n",
       "      <th>396</th>\n",
       "      <th>397</th>\n",
       "      <th>398</th>\n",
       "      <th>399</th>\n",
       "    </tr>\n",
       "  </thead>\n",
       "  <tbody>\n",
       "    <tr>\n",
       "      <th>0</th>\n",
       "      <td>-0.113044</td>\n",
       "      <td>-0.280624</td>\n",
       "      <td>-0.467553</td>\n",
       "      <td>-0.661957</td>\n",
       "      <td>0.024588</td>\n",
       "      <td>0.353353</td>\n",
       "      <td>0.484770</td>\n",
       "      <td>0.474487</td>\n",
       "      <td>0.150466</td>\n",
       "      <td>0.243581</td>\n",
       "      <td>...</td>\n",
       "      <td>0.590394</td>\n",
       "      <td>-0.523701</td>\n",
       "      <td>0.345732</td>\n",
       "      <td>-0.003277</td>\n",
       "      <td>-0.932329</td>\n",
       "      <td>-0.216908</td>\n",
       "      <td>-0.278757</td>\n",
       "      <td>-0.049465</td>\n",
       "      <td>-0.315992</td>\n",
       "      <td>-1.150639</td>\n",
       "    </tr>\n",
       "    <tr>\n",
       "      <th>1</th>\n",
       "      <td>-0.209748</td>\n",
       "      <td>-0.196182</td>\n",
       "      <td>-0.205402</td>\n",
       "      <td>-0.233484</td>\n",
       "      <td>0.057311</td>\n",
       "      <td>-0.070529</td>\n",
       "      <td>-0.186705</td>\n",
       "      <td>0.112475</td>\n",
       "      <td>0.092018</td>\n",
       "      <td>-0.070301</td>\n",
       "      <td>...</td>\n",
       "      <td>0.131215</td>\n",
       "      <td>-0.203421</td>\n",
       "      <td>-0.157595</td>\n",
       "      <td>0.019562</td>\n",
       "      <td>-0.244218</td>\n",
       "      <td>-0.196894</td>\n",
       "      <td>0.190264</td>\n",
       "      <td>-0.052027</td>\n",
       "      <td>0.236541</td>\n",
       "      <td>-0.174639</td>\n",
       "    </tr>\n",
       "    <tr>\n",
       "      <th>2</th>\n",
       "      <td>-0.202627</td>\n",
       "      <td>-0.197063</td>\n",
       "      <td>-0.201548</td>\n",
       "      <td>-0.231052</td>\n",
       "      <td>0.056901</td>\n",
       "      <td>-0.067228</td>\n",
       "      <td>-0.185202</td>\n",
       "      <td>0.110842</td>\n",
       "      <td>0.092644</td>\n",
       "      <td>-0.070459</td>\n",
       "      <td>...</td>\n",
       "      <td>0.131723</td>\n",
       "      <td>-0.202194</td>\n",
       "      <td>-0.156960</td>\n",
       "      <td>0.019876</td>\n",
       "      <td>-0.249709</td>\n",
       "      <td>-0.195630</td>\n",
       "      <td>0.190940</td>\n",
       "      <td>-0.051310</td>\n",
       "      <td>0.238095</td>\n",
       "      <td>-0.171155</td>\n",
       "    </tr>\n",
       "    <tr>\n",
       "      <th>3</th>\n",
       "      <td>-1.046975</td>\n",
       "      <td>-0.163096</td>\n",
       "      <td>-0.310886</td>\n",
       "      <td>-0.636592</td>\n",
       "      <td>0.350110</td>\n",
       "      <td>-0.054391</td>\n",
       "      <td>0.830515</td>\n",
       "      <td>0.064007</td>\n",
       "      <td>-0.016510</td>\n",
       "      <td>0.042726</td>\n",
       "      <td>...</td>\n",
       "      <td>0.024607</td>\n",
       "      <td>-0.778754</td>\n",
       "      <td>0.104576</td>\n",
       "      <td>-0.000897</td>\n",
       "      <td>-0.728982</td>\n",
       "      <td>-0.809905</td>\n",
       "      <td>0.211798</td>\n",
       "      <td>-0.318993</td>\n",
       "      <td>0.576275</td>\n",
       "      <td>-0.487013</td>\n",
       "    </tr>\n",
       "    <tr>\n",
       "      <th>4</th>\n",
       "      <td>-0.769020</td>\n",
       "      <td>-0.241279</td>\n",
       "      <td>-0.626920</td>\n",
       "      <td>-0.779619</td>\n",
       "      <td>0.144031</td>\n",
       "      <td>-0.157478</td>\n",
       "      <td>0.260642</td>\n",
       "      <td>-0.190876</td>\n",
       "      <td>-0.003950</td>\n",
       "      <td>-0.154547</td>\n",
       "      <td>...</td>\n",
       "      <td>0.302810</td>\n",
       "      <td>-0.917235</td>\n",
       "      <td>0.015533</td>\n",
       "      <td>-0.062880</td>\n",
       "      <td>-0.391241</td>\n",
       "      <td>-0.913810</td>\n",
       "      <td>0.662305</td>\n",
       "      <td>-0.301348</td>\n",
       "      <td>1.001334</td>\n",
       "      <td>0.468030</td>\n",
       "    </tr>\n",
       "  </tbody>\n",
       "</table>\n",
       "<p>5 rows × 400 columns</p>\n",
       "</div>"
      ],
      "text/plain": [
       "        0         1         2         3         4         5         6    \\\n",
       "0 -0.113044 -0.280624 -0.467553 -0.661957  0.024588  0.353353  0.484770   \n",
       "1 -0.209748 -0.196182 -0.205402 -0.233484  0.057311 -0.070529 -0.186705   \n",
       "2 -0.202627 -0.197063 -0.201548 -0.231052  0.056901 -0.067228 -0.185202   \n",
       "3 -1.046975 -0.163096 -0.310886 -0.636592  0.350110 -0.054391  0.830515   \n",
       "4 -0.769020 -0.241279 -0.626920 -0.779619  0.144031 -0.157478  0.260642   \n",
       "\n",
       "        7         8         9    ...       390       391       392       393  \\\n",
       "0  0.474487  0.150466  0.243581  ...  0.590394 -0.523701  0.345732 -0.003277   \n",
       "1  0.112475  0.092018 -0.070301  ...  0.131215 -0.203421 -0.157595  0.019562   \n",
       "2  0.110842  0.092644 -0.070459  ...  0.131723 -0.202194 -0.156960  0.019876   \n",
       "3  0.064007 -0.016510  0.042726  ...  0.024607 -0.778754  0.104576 -0.000897   \n",
       "4 -0.190876 -0.003950 -0.154547  ...  0.302810 -0.917235  0.015533 -0.062880   \n",
       "\n",
       "        394       395       396       397       398       399  \n",
       "0 -0.932329 -0.216908 -0.278757 -0.049465 -0.315992 -1.150639  \n",
       "1 -0.244218 -0.196894  0.190264 -0.052027  0.236541 -0.174639  \n",
       "2 -0.249709 -0.195630  0.190940 -0.051310  0.238095 -0.171155  \n",
       "3 -0.728982 -0.809905  0.211798 -0.318993  0.576275 -0.487013  \n",
       "4 -0.391241 -0.913810  0.662305 -0.301348  1.001334  0.468030  \n",
       "\n",
       "[5 rows x 400 columns]"
      ]
     },
     "execution_count": 26,
     "metadata": {},
     "output_type": "execute_result"
    }
   ],
   "source": [
    "df.head()"
   ]
  },
  {
   "cell_type": "code",
   "execution_count": 27,
   "metadata": {},
   "outputs": [],
   "source": [
    "df2 = pd.DataFrame(itos)"
   ]
  },
  {
   "cell_type": "code",
   "execution_count": 28,
   "metadata": {},
   "outputs": [
    {
     "data": {
      "text/html": [
       "<div>\n",
       "<style scoped>\n",
       "    .dataframe tbody tr th:only-of-type {\n",
       "        vertical-align: middle;\n",
       "    }\n",
       "\n",
       "    .dataframe tbody tr th {\n",
       "        vertical-align: top;\n",
       "    }\n",
       "\n",
       "    .dataframe thead th {\n",
       "        text-align: right;\n",
       "    }\n",
       "</style>\n",
       "<table border=\"1\" class=\"dataframe\">\n",
       "  <thead>\n",
       "    <tr style=\"text-align: right;\">\n",
       "      <th></th>\n",
       "      <th>0</th>\n",
       "    </tr>\n",
       "  </thead>\n",
       "  <tbody>\n",
       "    <tr>\n",
       "      <th>0</th>\n",
       "      <td>&lt;unk&gt;</td>\n",
       "    </tr>\n",
       "    <tr>\n",
       "      <th>1</th>\n",
       "      <td>&lt;s&gt;</td>\n",
       "    </tr>\n",
       "    <tr>\n",
       "      <th>2</th>\n",
       "      <td>&lt;/s&gt;</td>\n",
       "    </tr>\n",
       "    <tr>\n",
       "      <th>3</th>\n",
       "      <td>।</td>\n",
       "    </tr>\n",
       "    <tr>\n",
       "      <th>4</th>\n",
       "      <td>,</td>\n",
       "    </tr>\n",
       "  </tbody>\n",
       "</table>\n",
       "</div>"
      ],
      "text/plain": [
       "       0\n",
       "0  <unk>\n",
       "1    <s>\n",
       "2   </s>\n",
       "3      ।\n",
       "4      ,"
      ]
     },
     "execution_count": 28,
     "metadata": {},
     "output_type": "execute_result"
    }
   ],
   "source": [
    "df2.head()"
   ]
  },
  {
   "cell_type": "code",
   "execution_count": 29,
   "metadata": {},
   "outputs": [
    {
     "data": {
      "text/plain": [
       "(30000, 1)"
      ]
     },
     "execution_count": 29,
     "metadata": {},
     "output_type": "execute_result"
    }
   ],
   "source": [
    "df2.shape"
   ]
  },
  {
   "cell_type": "code",
   "execution_count": 30,
   "metadata": {},
   "outputs": [],
   "source": [
    "df2.to_csv('embeddings_metadata.tsv', sep='\\t', index=False, header=False)"
   ]
  },
  {
   "cell_type": "code",
   "execution_count": 31,
   "metadata": {},
   "outputs": [
    {
     "data": {
      "text/plain": [
       "tensor([-2.0975e-01, -1.9618e-01, -2.0540e-01, -2.3348e-01,  5.7311e-02,\n",
       "        -7.0529e-02, -1.8671e-01,  1.1248e-01,  9.2018e-02, -7.0301e-02,\n",
       "         9.7462e-02,  4.8933e-02, -2.0830e-01,  1.6536e-01, -9.6041e-02,\n",
       "        -2.8939e-01,  2.0780e-01,  3.5581e-01, -9.9598e-02, -2.8169e-01,\n",
       "        -6.7346e-02,  9.5075e-02,  6.5157e-02,  3.0202e-02,  4.0617e-02,\n",
       "         3.1267e-01,  2.8607e-01,  7.7638e-02, -3.4083e-01, -1.3846e-01,\n",
       "         3.5380e-02, -4.2937e-02, -7.8581e-02, -9.2947e-02, -4.3616e-02,\n",
       "        -1.9825e-01, -1.3362e-01, -7.2964e-02,  4.4304e-01, -8.0956e-03,\n",
       "        -4.2369e-02,  9.8648e-02, -1.3435e-01, -5.0511e-02, -1.1853e-01,\n",
       "         4.4464e-02,  3.0527e-02, -6.5666e-02, -3.7080e-02, -1.6930e-01,\n",
       "        -3.8039e-01, -4.8073e-02, -8.0869e-02,  7.1273e-02, -5.4129e-01,\n",
       "        -3.0994e-01, -8.1238e-03, -1.0259e-01, -9.4719e-02,  1.0855e-01,\n",
       "        -6.8363e-03,  8.4207e-02, -6.9806e-02,  9.5612e-02, -1.4546e-02,\n",
       "        -1.6445e-01, -2.8120e-01, -2.3333e-01,  3.7728e-01, -8.4052e-02,\n",
       "        -1.6839e-01,  7.9820e-02, -5.4699e-02, -5.6658e-02, -7.9047e-02,\n",
       "        -5.1065e-02, -1.2808e-01,  3.1292e-01,  3.4408e-01, -2.1982e-01,\n",
       "         6.2927e-01, -1.7191e-01,  2.7541e-01, -5.3270e-02,  3.9762e-01,\n",
       "         1.7137e-02,  2.6911e-02, -1.1121e-01, -1.3602e-01, -2.1945e-01,\n",
       "        -2.5025e-02,  9.2133e-03,  2.5971e-01,  1.0217e-01,  2.0113e-01,\n",
       "         7.7278e-02, -1.2024e-03,  2.7187e-01,  2.7653e-01, -2.8195e-02,\n",
       "         1.1607e-01,  3.3395e-01, -1.2433e-01, -1.1339e-01, -1.7599e-01,\n",
       "         2.9493e-02,  3.0360e-02,  9.3124e-02,  1.8053e-01,  1.0206e-01,\n",
       "        -2.2476e-01,  1.1148e-02,  1.6306e-02, -4.8891e-02, -6.2860e-02,\n",
       "         7.8599e-02,  6.6077e-02, -2.6521e-01,  1.1880e-01, -1.9618e-01,\n",
       "        -1.4494e-01, -4.5063e-02,  1.6980e-01, -1.9858e-01,  7.6472e-01,\n",
       "        -8.8632e-02,  1.0890e-01, -6.3653e-01,  9.5603e-02,  4.8346e-02,\n",
       "        -9.8141e-03, -2.5605e-01, -6.0272e-03, -1.4424e-01, -1.5308e-01,\n",
       "        -3.1162e-01, -2.2846e-01,  2.2532e-01, -8.5383e-02, -6.3810e-03,\n",
       "         2.5915e-01,  1.5046e-01, -1.3891e-01,  1.2215e-02,  6.9958e-01,\n",
       "         2.2985e-01, -1.5752e-01,  2.1377e-02,  1.0911e-01, -5.9963e-02,\n",
       "        -1.5173e-01, -9.6599e-02,  1.2167e-01, -9.8786e-02,  7.2361e-02,\n",
       "         2.1146e-02,  3.6606e-01, -5.1859e-02, -4.6860e-02,  4.9164e-02,\n",
       "         2.2896e-01,  6.0605e-02,  3.0681e-03, -3.1467e-01,  1.8546e-02,\n",
       "        -1.9489e-01,  4.7312e-01,  3.9720e-02,  1.9243e-01, -1.2842e-02,\n",
       "         9.5858e-02,  1.5790e-01,  3.4739e-01,  3.6294e-01,  1.0648e-01,\n",
       "         2.3286e-02,  2.0895e-01,  4.3130e-01, -2.0621e-02, -2.4944e-02,\n",
       "        -1.5626e-01, -1.2872e-01, -1.1250e-01, -2.6440e-01, -3.6161e-01,\n",
       "        -7.8369e-02, -2.8274e-02,  8.7179e-03,  5.4109e-04, -2.3163e-01,\n",
       "         1.2553e-01, -3.9945e-02, -1.2243e-01,  5.9414e-01,  7.3162e-02,\n",
       "        -1.2072e-02, -3.6422e-01, -1.7701e-02, -1.2572e-01,  6.1155e-02,\n",
       "         5.9708e-03, -3.9597e-01, -2.6256e-01,  3.9562e-01,  3.1865e-01,\n",
       "         7.3748e-02, -3.3992e-03,  1.6548e-01,  7.6709e-02, -2.9356e-02,\n",
       "         2.8828e-01, -1.0862e-01,  8.3224e-02,  1.1717e-01,  3.6892e-02,\n",
       "        -5.2345e-02,  1.1808e+00, -3.6143e-01, -9.1258e-02, -8.1256e-02,\n",
       "         1.4194e-02,  9.9000e-02, -1.1424e-01,  7.9509e-02,  1.1500e-01,\n",
       "         2.5079e-01,  2.5563e-01, -2.0775e-01, -2.7141e-01,  9.5943e-02,\n",
       "         3.0604e-01, -1.1494e-01, -2.3848e-01,  1.0002e-02, -2.0862e-01,\n",
       "         6.1129e-02, -8.1983e-02, -1.1402e-01,  3.3400e-03, -1.4947e-01,\n",
       "         2.9265e-01, -3.1821e-02,  6.5717e-02, -4.8588e-02, -2.0311e-01,\n",
       "         2.2134e-02, -1.3869e-01,  3.4221e-01,  3.8090e-02, -5.5111e-01,\n",
       "        -4.3274e-01,  1.7386e-01,  3.4869e-02,  3.8913e-02, -6.0713e-02,\n",
       "         7.5119e-02, -1.1455e-01,  9.3660e-02,  1.0153e-01, -1.3699e-01,\n",
       "         1.8357e-01,  1.0062e-02,  1.2757e-01,  3.1796e-02,  1.2794e-01,\n",
       "         3.1917e-01, -9.0443e-01,  7.0663e-02, -2.5334e-01,  2.0275e-01,\n",
       "        -8.2738e-02,  1.0424e-02,  1.8229e-01, -2.9050e-02, -1.3812e-01,\n",
       "         1.6114e-01,  1.4403e-01, -2.8486e-01,  1.8627e-04, -1.7042e-01,\n",
       "        -5.1327e-01,  3.6629e-01,  1.8770e-01, -1.2121e-01,  4.3667e-01,\n",
       "         1.6523e-01, -3.2076e-02, -8.5570e-03, -2.1224e-01,  2.4855e-01,\n",
       "        -2.6015e-01, -3.0197e-01, -4.9951e-03,  7.2415e-02,  7.5674e-02,\n",
       "        -9.4619e-03, -6.3841e-02,  1.6128e-01, -2.8986e-02,  5.6814e-02,\n",
       "        -3.3807e-01,  1.9503e-02,  1.0999e-01, -8.0103e-01,  4.4586e-01,\n",
       "         1.0302e-01, -1.0779e-01,  2.5178e-02,  4.9194e-02,  4.2886e-02,\n",
       "        -1.3494e-01, -7.0256e-02, -6.8943e-02,  6.9727e-02,  1.9184e-01,\n",
       "         4.6921e-02, -3.1431e-02, -9.0413e-02,  7.0227e-03,  5.5471e-02,\n",
       "        -2.8320e-01,  2.8287e-01,  1.6967e-01,  9.9443e-03,  1.2211e-01,\n",
       "        -1.0337e+00, -1.1633e-01,  1.1058e-01,  6.4210e-02,  4.8161e-01,\n",
       "        -5.8929e-03,  3.5657e-01, -1.2109e-01,  4.9998e-02,  1.2321e-01,\n",
       "         1.5570e-01,  1.0380e-01, -2.6860e-01, -1.9010e-01, -2.0836e+00,\n",
       "         3.9640e-01, -1.3276e-01, -3.2419e-01,  3.2446e-01,  6.2400e-01,\n",
       "         1.1666e-01, -2.9998e-02,  2.2837e-01,  1.1237e-01,  2.4352e-02,\n",
       "        -1.5902e-01, -9.8717e-02,  2.7913e-02,  5.8708e-02,  1.1892e-01,\n",
       "        -8.1762e-03, -1.6647e-01, -1.6432e-01, -2.5930e-01,  2.1109e-01,\n",
       "         3.4819e-01, -4.3490e-01,  3.4153e-02,  2.6209e-01, -1.4812e-02,\n",
       "         4.6249e-02, -2.9468e-02,  5.7231e-02,  1.1022e+00, -3.9571e-02,\n",
       "         1.2926e-01, -1.9751e-02, -1.0570e-01, -1.2946e-01,  8.5874e-02,\n",
       "         1.4673e-01, -2.2023e-01, -7.8423e-02, -2.6727e-01, -1.4389e-01,\n",
       "        -2.6691e-01,  2.5318e-01, -1.3268e-01, -1.1717e-01,  2.2924e-02,\n",
       "        -1.1887e-01,  9.1214e-02,  1.3766e-01,  1.4223e-01,  1.5568e-01,\n",
       "         1.3122e-01, -2.0342e-01, -1.5759e-01,  1.9562e-02, -2.4422e-01,\n",
       "        -1.9689e-01,  1.9026e-01, -5.2027e-02,  2.3654e-01, -1.7464e-01])"
      ]
     },
     "execution_count": 31,
     "metadata": {},
     "output_type": "execute_result"
    }
   ],
   "source": [
    "encoder.state_dict()['encoder.weight'][1]"
   ]
  },
  {
   "cell_type": "code",
   "execution_count": null,
   "metadata": {},
   "outputs": [],
   "source": []
  }
 ],
 "metadata": {
  "kernelspec": {
   "display_name": "Python 3",
   "language": "python",
   "name": "python3"
  },
  "language_info": {
   "codemirror_mode": {
    "name": "ipython",
    "version": 3
   },
   "file_extension": ".py",
   "mimetype": "text/x-python",
   "name": "python",
   "nbconvert_exporter": "python",
   "pygments_lexer": "ipython3",
   "version": "3.7.3"
  }
 },
 "nbformat": 4,
 "nbformat_minor": 2
}
